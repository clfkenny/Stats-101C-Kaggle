{
 "cells": [
  {
   "cell_type": "markdown",
   "metadata": {},
   "source": [
    "# Testing out algorithms in python"
   ]
  },
  {
   "cell_type": "code",
   "execution_count": 1,
   "metadata": {
    "ExecuteTime": {
     "end_time": "2018-05-31T02:21:25.697278Z",
     "start_time": "2018-05-31T02:21:25.193765Z"
    },
    "scrolled": false
   },
   "outputs": [],
   "source": [
    "import pandas as pd\n",
    "import numpy as np"
   ]
  },
  {
   "cell_type": "code",
   "execution_count": 2,
   "metadata": {
    "ExecuteTime": {
     "end_time": "2018-05-31T02:21:26.111001Z",
     "start_time": "2018-05-31T02:21:26.060367Z"
    },
    "scrolled": false
   },
   "outputs": [
    {
     "name": "stdout",
     "output_type": "stream",
     "text": [
      "(3000, 17)\n"
     ]
    }
   ],
   "source": [
    "train = pd.read_csv('train.csv')\n",
    "print(train.shape)"
   ]
  },
  {
   "cell_type": "code",
   "execution_count": 3,
   "metadata": {
    "ExecuteTime": {
     "end_time": "2018-05-31T02:21:27.935204Z",
     "start_time": "2018-05-31T02:21:27.735543Z"
    },
    "scrolled": false
   },
   "outputs": [
    {
     "data": {
      "text/plain": [
       "B    0.386462\n",
       "U    0.295432\n",
       "W    0.153051\n",
       "L    0.153051\n",
       "A    0.008336\n",
       "O    0.003668\n",
       "Name: SubjectRace, dtype: float64"
      ]
     },
     "execution_count": 3,
     "metadata": {},
     "output_type": "execute_result"
    }
   ],
   "source": [
    "train.SubjectRace.value_counts(normalize=True)"
   ]
  },
  {
   "cell_type": "markdown",
   "metadata": {},
   "source": [
    "# Importing the cleaned up dataset from R"
   ]
  },
  {
   "cell_type": "markdown",
   "metadata": {},
   "source": [
    "## Setting up the Dataset"
   ]
  },
  {
   "cell_type": "code",
   "execution_count": 4,
   "metadata": {
    "ExecuteTime": {
     "end_time": "2018-05-31T02:21:36.134668Z",
     "start_time": "2018-05-31T02:21:36.105624Z"
    }
   },
   "outputs": [
    {
     "name": "stdout",
     "output_type": "stream",
     "text": [
      "(3000, 37)\n"
     ]
    }
   ],
   "source": [
    "clean_merged = pd.read_csv('/Users/Kenny/Dropbox/Stats-101C-Kaggle/Datasets/cleaned_merged1.csv') \n",
    "print(clean_merged.shape)\n",
    "#print(clean_merged1.columns)\n",
    "#clean_merged1.head()"
   ]
  },
  {
   "cell_type": "code",
   "execution_count": 6,
   "metadata": {
    "ExecuteTime": {
     "end_time": "2018-05-31T02:21:59.024071Z",
     "start_time": "2018-05-31T02:21:59.010939Z"
    }
   },
   "outputs": [
    {
     "data": {
      "text/plain": [
       "(2811, 11)"
      ]
     },
     "execution_count": 6,
     "metadata": {},
     "output_type": "execute_result"
    }
   ],
   "source": [
    "clean_merged1 = clean_merged[clean_merged.Fatal != 'U']\n",
    "features_list = ['Fatal','SubjectRace', 'SubjectGender', 'SubjectArmed',\n",
    "                               'ShotsClean', 'AgeGroup', 'NumberOfOfficers',\n",
    "                                   'Month', 'Day', 'estimate2016', 'mainOfficerRace']\n",
    "clean_merged1 = clean_merged1[features_list]\n",
    "clean_merged1.shape\n",
    "#clean_merged1.loc[clean_merged1.AgeGroup==0, 'AgeGroup'] = 5\n",
    "#clean_merged1.dtypes"
   ]
  },
  {
   "cell_type": "code",
   "execution_count": 7,
   "metadata": {
    "ExecuteTime": {
     "end_time": "2018-05-31T02:22:03.151307Z",
     "start_time": "2018-05-31T02:22:02.465342Z"
    },
    "scrolled": false
   },
   "outputs": [
    {
     "name": "stdout",
     "output_type": "stream",
     "text": [
      "train_features dimensions: (2248, 24)\n",
      "test_features dimensions: (563, 24)\n",
      "train_labels dimensions: (2248,)\n",
      "test_labels dimensions: (563,)\n"
     ]
    }
   ],
   "source": [
    "from sklearn.model_selection import train_test_split\n",
    "\n",
    "features = pd.get_dummies(clean_merged1.iloc[:,1:])\n",
    "labels = clean_merged1.Fatal\n",
    "\n",
    "train_features, test_features, train_labels, test_labels = train_test_split(features, \n",
    "                                                                            labels, \n",
    "                                                                            test_size=.2,\n",
    "                                                                            random_state=1255)\n",
    "print('train_features dimensions:', train_features.shape)\n",
    "print('test_features dimensions:', test_features.shape)\n",
    "print('train_labels dimensions:', train_labels.shape)\n",
    "print('test_labels dimensions:', test_labels.shape)"
   ]
  },
  {
   "cell_type": "markdown",
   "metadata": {},
   "source": [
    "### This will be the value to beat (the just say no method): $66.9\\%$"
   ]
  },
  {
   "cell_type": "code",
   "execution_count": null,
   "metadata": {
    "ExecuteTime": {
     "end_time": "2018-05-28T22:40:12.452402Z",
     "start_time": "2018-05-28T22:40:12.439046Z"
    },
    "scrolled": false
   },
   "outputs": [],
   "source": [
    "clean_merged1.Fatal.value_counts(normalize=True)"
   ]
  },
  {
   "cell_type": "code",
   "execution_count": 8,
   "metadata": {
    "ExecuteTime": {
     "end_time": "2018-05-31T02:22:10.308739Z",
     "start_time": "2018-05-31T02:22:10.065854Z"
    },
    "scrolled": false
   },
   "outputs": [],
   "source": [
    "from sklearn.linear_model import LogisticRegression\n",
    "from sklearn.svm import SVC, LinearSVC\n",
    "from sklearn.neighbors import KNeighborsClassifier\n",
    "from sklearn.ensemble import RandomForestClassifier\n",
    "from sklearn.ensemble import ExtraTreesClassifier\n",
    "from sklearn.naive_bayes import GaussianNB\n",
    "from sklearn.neural_network import MLPClassifier\n",
    "from xgboost import XGBClassifier\n",
    "from sklearn.ensemble import AdaBoostClassifier\n",
    "\n",
    "from sklearn.model_selection import cross_val_score\n",
    "from sklearn.metrics import accuracy_score\n",
    "\n",
    "# xgboost causing warnings\n",
    "import warnings\n",
    "warnings.filterwarnings('ignore')"
   ]
  },
  {
   "cell_type": "code",
   "execution_count": 9,
   "metadata": {
    "ExecuteTime": {
     "end_time": "2018-05-31T02:22:24.106150Z",
     "start_time": "2018-05-31T02:22:15.498464Z"
    },
    "code_folding": [
     13,
     20,
     24
    ],
    "scrolled": false
   },
   "outputs": [],
   "source": [
    "models = []\n",
    "models.append(('LogisticRegression', LogisticRegression()))\n",
    "models.append((\"SVC\", SVC(C=1, gamma=0.1)))\n",
    "models.append((\"KNeighborsClassifier\", KNeighborsClassifier(n_neighbors=5)))\n",
    "models.append((\"RandomForestClassifier_gini\", RandomForestClassifier(n_estimators=300,\n",
    "                                                                criterion='gini',\n",
    "                                                                max_depth=7)))\n",
    "models.append((\"RandomForestClassifier_entropy\", RandomForestClassifier(n_estimators=300,\n",
    "                                                                criterion = 'entropy',\n",
    "                                                                max_depth=7)))\n",
    "#models.append(('ExtremeRandomForest_gini', ExtraTreesClassifier(n_estimators = 200,\n",
    "#                                                          max_depth = 7,\n",
    "#                                                               criterion='gini')))\n",
    "#models.append(('ExtremeRandomForest_entropy', ExtraTreesClassifier(n_estimators = 200,\n",
    "#                                                          max_depth = 7,\n",
    "#                                                               criterion='entropy')))\n",
    "models.append(('XGBoost', XGBClassifier(learning_rate=0.1, n_estimators=100,\n",
    "                                       max_depth= 5)))\n",
    "#models.append(('Adaboost', AdaBoostClassifier(learning_rate=0.1, n_estimators=100)))\n",
    "\n",
    "results = []\n",
    "names = []\n",
    "for name,model in models:\n",
    "    result = cross_val_score(model, train_features, train_labels, cv=5)\n",
    "    names.append(name)\n",
    "    results.append(result)\n",
    "\n",
    "mean_results = []\n",
    "sd_results = []\n",
    "for model in results:\n",
    "    mean_results.append(model.mean())\n",
    "    sd_results.append(model.std())\n",
    "\n",
    "results_df = pd.DataFrame({'Model': names,\n",
    "              'Mean Classification Rate': mean_results,\n",
    "              'Standard Deviation': sd_results\n",
    "             })\n",
    "results_df = results_df.iloc[:,[1,0,2]]"
   ]
  },
  {
   "cell_type": "code",
   "execution_count": 10,
   "metadata": {
    "ExecuteTime": {
     "end_time": "2018-05-31T02:22:24.614118Z",
     "start_time": "2018-05-31T02:22:24.588059Z"
    },
    "scrolled": false
   },
   "outputs": [
    {
     "data": {
      "text/html": [
       "<div>\n",
       "<style scoped>\n",
       "    .dataframe tbody tr th:only-of-type {\n",
       "        vertical-align: middle;\n",
       "    }\n",
       "\n",
       "    .dataframe tbody tr th {\n",
       "        vertical-align: top;\n",
       "    }\n",
       "\n",
       "    .dataframe thead th {\n",
       "        text-align: right;\n",
       "    }\n",
       "</style>\n",
       "<table border=\"1\" class=\"dataframe\">\n",
       "  <thead>\n",
       "    <tr style=\"text-align: right;\">\n",
       "      <th></th>\n",
       "      <th>Model</th>\n",
       "      <th>Mean Classification Rate</th>\n",
       "      <th>Standard Deviation</th>\n",
       "    </tr>\n",
       "  </thead>\n",
       "  <tbody>\n",
       "    <tr>\n",
       "      <th>3</th>\n",
       "      <td>RandomForestClassifier_gini</td>\n",
       "      <td>0.691282</td>\n",
       "      <td>0.008440</td>\n",
       "    </tr>\n",
       "    <tr>\n",
       "      <th>5</th>\n",
       "      <td>XGBoost</td>\n",
       "      <td>0.689950</td>\n",
       "      <td>0.015350</td>\n",
       "    </tr>\n",
       "    <tr>\n",
       "      <th>4</th>\n",
       "      <td>RandomForestClassifier_entropy</td>\n",
       "      <td>0.686393</td>\n",
       "      <td>0.009033</td>\n",
       "    </tr>\n",
       "    <tr>\n",
       "      <th>1</th>\n",
       "      <td>SVC</td>\n",
       "      <td>0.661468</td>\n",
       "      <td>0.016938</td>\n",
       "    </tr>\n",
       "    <tr>\n",
       "      <th>0</th>\n",
       "      <td>LogisticRegression</td>\n",
       "      <td>0.660143</td>\n",
       "      <td>0.000286</td>\n",
       "    </tr>\n",
       "    <tr>\n",
       "      <th>2</th>\n",
       "      <td>KNeighborsClassifier</td>\n",
       "      <td>0.646321</td>\n",
       "      <td>0.023089</td>\n",
       "    </tr>\n",
       "  </tbody>\n",
       "</table>\n",
       "</div>"
      ],
      "text/plain": [
       "                            Model  Mean Classification Rate  \\\n",
       "3     RandomForestClassifier_gini                  0.691282   \n",
       "5                         XGBoost                  0.689950   \n",
       "4  RandomForestClassifier_entropy                  0.686393   \n",
       "1                             SVC                  0.661468   \n",
       "0              LogisticRegression                  0.660143   \n",
       "2            KNeighborsClassifier                  0.646321   \n",
       "\n",
       "   Standard Deviation  \n",
       "3            0.008440  \n",
       "5            0.015350  \n",
       "4            0.009033  \n",
       "1            0.016938  \n",
       "0            0.000286  \n",
       "2            0.023089  "
      ]
     },
     "execution_count": 10,
     "metadata": {},
     "output_type": "execute_result"
    }
   ],
   "source": [
    "results_df.sort_values(by = 'Mean Classification Rate', ascending=False)"
   ]
  },
  {
   "cell_type": "markdown",
   "metadata": {},
   "source": [
    "## SVC Hyperparameter Tuning (performs poorly)"
   ]
  },
  {
   "cell_type": "code",
   "execution_count": 11,
   "metadata": {
    "ExecuteTime": {
     "end_time": "2018-05-31T02:23:00.398449Z",
     "start_time": "2018-05-31T02:22:49.198474Z"
    }
   },
   "outputs": [
    {
     "name": "stdout",
     "output_type": "stream",
     "text": [
      "Fitting 5 folds for each of 20 candidates, totalling 100 fits\n"
     ]
    },
    {
     "name": "stderr",
     "output_type": "stream",
     "text": [
      "[Parallel(n_jobs=-1)]: Done  42 tasks      | elapsed:    4.2s\n",
      "[Parallel(n_jobs=-1)]: Done 100 out of 100 | elapsed:   10.7s finished\n"
     ]
    },
    {
     "data": {
      "text/plain": [
       "GridSearchCV(cv=5, error_score='raise',\n",
       "       estimator=SVC(C=1.0, cache_size=200, class_weight=None, coef0=0.0,\n",
       "  decision_function_shape='ovr', degree=3, gamma='auto', kernel='rbf',\n",
       "  max_iter=-1, probability=False, random_state=12345, shrinking=True,\n",
       "  tol=0.001, verbose=False),\n",
       "       fit_params=None, iid=True, n_jobs=-1,\n",
       "       param_grid={'C': [0.001, 0.01, 0.1, 1, 10], 'gamma': [0.001, 0.01, 0.1, 1]},\n",
       "       pre_dispatch='2*n_jobs', refit=True, return_train_score=True,\n",
       "       scoring=None, verbose=1)"
      ]
     },
     "execution_count": 11,
     "metadata": {},
     "output_type": "execute_result"
    }
   ],
   "source": [
    "from sklearn.model_selection import GridSearchCV\n",
    "svc = SVC(random_state=12345)\n",
    "param_grid_svc = {\n",
    "    'C': [0.001, 0.01, 0.1, 1, 10],\n",
    "    'gamma' : [0.001, 0.01, 0.1, 1],\n",
    "}\n",
    "\n",
    "CV_svc = GridSearchCV(n_jobs=-1, estimator=svc, param_grid = param_grid_svc, cv=5,\n",
    "                     verbose=1, return_train_score=True)\n",
    "CV_svc.fit(train_features,train_labels)"
   ]
  },
  {
   "cell_type": "code",
   "execution_count": 12,
   "metadata": {
    "ExecuteTime": {
     "end_time": "2018-05-31T02:23:00.913585Z",
     "start_time": "2018-05-31T02:23:00.881990Z"
    }
   },
   "outputs": [
    {
     "data": {
      "text/html": [
       "<div>\n",
       "<style scoped>\n",
       "    .dataframe tbody tr th:only-of-type {\n",
       "        vertical-align: middle;\n",
       "    }\n",
       "\n",
       "    .dataframe tbody tr th {\n",
       "        vertical-align: top;\n",
       "    }\n",
       "\n",
       "    .dataframe thead th {\n",
       "        text-align: right;\n",
       "    }\n",
       "</style>\n",
       "<table border=\"1\" class=\"dataframe\">\n",
       "  <thead>\n",
       "    <tr style=\"text-align: right;\">\n",
       "      <th></th>\n",
       "      <th>C</th>\n",
       "      <th>gamma</th>\n",
       "      <th>Accuracy</th>\n",
       "    </tr>\n",
       "  </thead>\n",
       "  <tbody>\n",
       "    <tr>\n",
       "      <th>16</th>\n",
       "      <td>10.0</td>\n",
       "      <td>0.001</td>\n",
       "      <td>0.677046</td>\n",
       "    </tr>\n",
       "    <tr>\n",
       "      <th>12</th>\n",
       "      <td>1.0</td>\n",
       "      <td>0.001</td>\n",
       "      <td>0.674822</td>\n",
       "    </tr>\n",
       "    <tr>\n",
       "      <th>13</th>\n",
       "      <td>1.0</td>\n",
       "      <td>0.010</td>\n",
       "      <td>0.672598</td>\n",
       "    </tr>\n",
       "    <tr>\n",
       "      <th>17</th>\n",
       "      <td>10.0</td>\n",
       "      <td>0.010</td>\n",
       "      <td>0.665480</td>\n",
       "    </tr>\n",
       "    <tr>\n",
       "      <th>14</th>\n",
       "      <td>1.0</td>\n",
       "      <td>0.100</td>\n",
       "      <td>0.661477</td>\n",
       "    </tr>\n",
       "  </tbody>\n",
       "</table>\n",
       "</div>"
      ],
      "text/plain": [
       "       C  gamma  Accuracy\n",
       "16  10.0  0.001  0.677046\n",
       "12   1.0  0.001  0.674822\n",
       "13   1.0  0.010  0.672598\n",
       "17  10.0  0.010  0.665480\n",
       "14   1.0  0.100  0.661477"
      ]
     },
     "execution_count": 12,
     "metadata": {},
     "output_type": "execute_result"
    }
   ],
   "source": [
    "mean_test = pd.DataFrame({'Accuracy': CV_svc.cv_results_['mean_test_score']})\n",
    "params = pd.DataFrame(CV_svc.cv_results_['params'])\n",
    "accuracy_result = params.join(mean_test).sort_values('Accuracy', ascending=False)\n",
    "accuracy_result.head()"
   ]
  },
  {
   "cell_type": "code",
   "execution_count": 30,
   "metadata": {
    "ExecuteTime": {
     "end_time": "2018-05-31T02:57:12.027396Z",
     "start_time": "2018-05-31T02:57:11.875836Z"
    }
   },
   "outputs": [
    {
     "name": "stdout",
     "output_type": "stream",
     "text": [
      "SVC with Optimized Hyperparameters Accuracy: 0.7087033747779752\n"
     ]
    }
   ],
   "source": [
    "svc2= LinearSVC()\n",
    "svc2.fit(train_features,train_labels)\n",
    "svc2_predictions = svc2.predict(test_features)\n",
    "print('SVC with Optimized Hyperparameters Accuracy:', accuracy_score(svc2_predictions, test_labels))"
   ]
  },
  {
   "cell_type": "markdown",
   "metadata": {
    "ExecuteTime": {
     "end_time": "2018-05-28T00:08:26.935729Z",
     "start_time": "2018-05-28T00:08:26.932969Z"
    }
   },
   "source": [
    "## Random Forest Hyperparameter Tuning"
   ]
  },
  {
   "cell_type": "code",
   "execution_count": 15,
   "metadata": {
    "ExecuteTime": {
     "end_time": "2018-05-31T02:24:02.671905Z",
     "start_time": "2018-05-31T02:23:34.151799Z"
    }
   },
   "outputs": [
    {
     "name": "stdout",
     "output_type": "stream",
     "text": [
      "Fitting 5 folds for each of 700 candidates, totalling 3500 fits\n"
     ]
    },
    {
     "name": "stderr",
     "output_type": "stream",
     "text": [
      "[Parallel(n_jobs=-1)]: Done  42 tasks      | elapsed:   12.0s\n"
     ]
    },
    {
     "ename": "KeyboardInterrupt",
     "evalue": "",
     "output_type": "error",
     "traceback": [
      "\u001b[0;31m---------------------------------------------------------------------------\u001b[0m",
      "\u001b[0;31mKeyboardInterrupt\u001b[0m                         Traceback (most recent call last)",
      "\u001b[0;32m<ipython-input-15-7f6b765c02cb>\u001b[0m in \u001b[0;36m<module>\u001b[0;34m()\u001b[0m\n\u001b[1;32m      9\u001b[0m CV_rfc = GridSearchCV(n_jobs = -1, estimator=rfc, param_grid = param_grid_rf, cv=5,\n\u001b[1;32m     10\u001b[0m                       verbose=1, return_train_score=True)\n\u001b[0;32m---> 11\u001b[0;31m \u001b[0mCV_rfc\u001b[0m\u001b[0;34m.\u001b[0m\u001b[0mfit\u001b[0m\u001b[0;34m(\u001b[0m\u001b[0mtrain_features\u001b[0m\u001b[0;34m,\u001b[0m\u001b[0mtrain_labels\u001b[0m\u001b[0;34m)\u001b[0m\u001b[0;34m\u001b[0m\u001b[0m\n\u001b[0m",
      "\u001b[0;32m~/anaconda3/lib/python3.6/site-packages/sklearn/model_selection/_search.py\u001b[0m in \u001b[0;36mfit\u001b[0;34m(self, X, y, groups, **fit_params)\u001b[0m\n\u001b[1;32m    637\u001b[0m                                   error_score=self.error_score)\n\u001b[1;32m    638\u001b[0m           for parameters, (train, test) in product(candidate_params,\n\u001b[0;32m--> 639\u001b[0;31m                                                    cv.split(X, y, groups)))\n\u001b[0m\u001b[1;32m    640\u001b[0m \u001b[0;34m\u001b[0m\u001b[0m\n\u001b[1;32m    641\u001b[0m         \u001b[0;31m# if one choose to see train score, \"out\" will contain train score info\u001b[0m\u001b[0;34m\u001b[0m\u001b[0;34m\u001b[0m\u001b[0m\n",
      "\u001b[0;32m~/anaconda3/lib/python3.6/site-packages/sklearn/externals/joblib/parallel.py\u001b[0m in \u001b[0;36m__call__\u001b[0;34m(self, iterable)\u001b[0m\n\u001b[1;32m    787\u001b[0m                 \u001b[0;31m# consumption.\u001b[0m\u001b[0;34m\u001b[0m\u001b[0;34m\u001b[0m\u001b[0m\n\u001b[1;32m    788\u001b[0m                 \u001b[0mself\u001b[0m\u001b[0;34m.\u001b[0m\u001b[0m_iterating\u001b[0m \u001b[0;34m=\u001b[0m \u001b[0;32mFalse\u001b[0m\u001b[0;34m\u001b[0m\u001b[0m\n\u001b[0;32m--> 789\u001b[0;31m             \u001b[0mself\u001b[0m\u001b[0;34m.\u001b[0m\u001b[0mretrieve\u001b[0m\u001b[0;34m(\u001b[0m\u001b[0;34m)\u001b[0m\u001b[0;34m\u001b[0m\u001b[0m\n\u001b[0m\u001b[1;32m    790\u001b[0m             \u001b[0;31m# Make sure that we get a last message telling us we are done\u001b[0m\u001b[0;34m\u001b[0m\u001b[0;34m\u001b[0m\u001b[0m\n\u001b[1;32m    791\u001b[0m             \u001b[0melapsed_time\u001b[0m \u001b[0;34m=\u001b[0m \u001b[0mtime\u001b[0m\u001b[0;34m.\u001b[0m\u001b[0mtime\u001b[0m\u001b[0;34m(\u001b[0m\u001b[0;34m)\u001b[0m \u001b[0;34m-\u001b[0m \u001b[0mself\u001b[0m\u001b[0;34m.\u001b[0m\u001b[0m_start_time\u001b[0m\u001b[0;34m\u001b[0m\u001b[0m\n",
      "\u001b[0;32m~/anaconda3/lib/python3.6/site-packages/sklearn/externals/joblib/parallel.py\u001b[0m in \u001b[0;36mretrieve\u001b[0;34m(self)\u001b[0m\n\u001b[1;32m    697\u001b[0m             \u001b[0;32mtry\u001b[0m\u001b[0;34m:\u001b[0m\u001b[0;34m\u001b[0m\u001b[0m\n\u001b[1;32m    698\u001b[0m                 \u001b[0;32mif\u001b[0m \u001b[0mgetattr\u001b[0m\u001b[0;34m(\u001b[0m\u001b[0mself\u001b[0m\u001b[0;34m.\u001b[0m\u001b[0m_backend\u001b[0m\u001b[0;34m,\u001b[0m \u001b[0;34m'supports_timeout'\u001b[0m\u001b[0;34m,\u001b[0m \u001b[0;32mFalse\u001b[0m\u001b[0;34m)\u001b[0m\u001b[0;34m:\u001b[0m\u001b[0;34m\u001b[0m\u001b[0m\n\u001b[0;32m--> 699\u001b[0;31m                     \u001b[0mself\u001b[0m\u001b[0;34m.\u001b[0m\u001b[0m_output\u001b[0m\u001b[0;34m.\u001b[0m\u001b[0mextend\u001b[0m\u001b[0;34m(\u001b[0m\u001b[0mjob\u001b[0m\u001b[0;34m.\u001b[0m\u001b[0mget\u001b[0m\u001b[0;34m(\u001b[0m\u001b[0mtimeout\u001b[0m\u001b[0;34m=\u001b[0m\u001b[0mself\u001b[0m\u001b[0;34m.\u001b[0m\u001b[0mtimeout\u001b[0m\u001b[0;34m)\u001b[0m\u001b[0;34m)\u001b[0m\u001b[0;34m\u001b[0m\u001b[0m\n\u001b[0m\u001b[1;32m    700\u001b[0m                 \u001b[0;32melse\u001b[0m\u001b[0;34m:\u001b[0m\u001b[0;34m\u001b[0m\u001b[0m\n\u001b[1;32m    701\u001b[0m                     \u001b[0mself\u001b[0m\u001b[0;34m.\u001b[0m\u001b[0m_output\u001b[0m\u001b[0;34m.\u001b[0m\u001b[0mextend\u001b[0m\u001b[0;34m(\u001b[0m\u001b[0mjob\u001b[0m\u001b[0;34m.\u001b[0m\u001b[0mget\u001b[0m\u001b[0;34m(\u001b[0m\u001b[0;34m)\u001b[0m\u001b[0;34m)\u001b[0m\u001b[0;34m\u001b[0m\u001b[0m\n",
      "\u001b[0;32m~/anaconda3/lib/python3.6/multiprocessing/pool.py\u001b[0m in \u001b[0;36mget\u001b[0;34m(self, timeout)\u001b[0m\n\u001b[1;32m    636\u001b[0m \u001b[0;34m\u001b[0m\u001b[0m\n\u001b[1;32m    637\u001b[0m     \u001b[0;32mdef\u001b[0m \u001b[0mget\u001b[0m\u001b[0;34m(\u001b[0m\u001b[0mself\u001b[0m\u001b[0;34m,\u001b[0m \u001b[0mtimeout\u001b[0m\u001b[0;34m=\u001b[0m\u001b[0;32mNone\u001b[0m\u001b[0;34m)\u001b[0m\u001b[0;34m:\u001b[0m\u001b[0;34m\u001b[0m\u001b[0m\n\u001b[0;32m--> 638\u001b[0;31m         \u001b[0mself\u001b[0m\u001b[0;34m.\u001b[0m\u001b[0mwait\u001b[0m\u001b[0;34m(\u001b[0m\u001b[0mtimeout\u001b[0m\u001b[0;34m)\u001b[0m\u001b[0;34m\u001b[0m\u001b[0m\n\u001b[0m\u001b[1;32m    639\u001b[0m         \u001b[0;32mif\u001b[0m \u001b[0;32mnot\u001b[0m \u001b[0mself\u001b[0m\u001b[0;34m.\u001b[0m\u001b[0mready\u001b[0m\u001b[0;34m(\u001b[0m\u001b[0;34m)\u001b[0m\u001b[0;34m:\u001b[0m\u001b[0;34m\u001b[0m\u001b[0m\n\u001b[1;32m    640\u001b[0m             \u001b[0;32mraise\u001b[0m \u001b[0mTimeoutError\u001b[0m\u001b[0;34m\u001b[0m\u001b[0m\n",
      "\u001b[0;32m~/anaconda3/lib/python3.6/multiprocessing/pool.py\u001b[0m in \u001b[0;36mwait\u001b[0;34m(self, timeout)\u001b[0m\n\u001b[1;32m    633\u001b[0m \u001b[0;34m\u001b[0m\u001b[0m\n\u001b[1;32m    634\u001b[0m     \u001b[0;32mdef\u001b[0m \u001b[0mwait\u001b[0m\u001b[0;34m(\u001b[0m\u001b[0mself\u001b[0m\u001b[0;34m,\u001b[0m \u001b[0mtimeout\u001b[0m\u001b[0;34m=\u001b[0m\u001b[0;32mNone\u001b[0m\u001b[0;34m)\u001b[0m\u001b[0;34m:\u001b[0m\u001b[0;34m\u001b[0m\u001b[0m\n\u001b[0;32m--> 635\u001b[0;31m         \u001b[0mself\u001b[0m\u001b[0;34m.\u001b[0m\u001b[0m_event\u001b[0m\u001b[0;34m.\u001b[0m\u001b[0mwait\u001b[0m\u001b[0;34m(\u001b[0m\u001b[0mtimeout\u001b[0m\u001b[0;34m)\u001b[0m\u001b[0;34m\u001b[0m\u001b[0m\n\u001b[0m\u001b[1;32m    636\u001b[0m \u001b[0;34m\u001b[0m\u001b[0m\n\u001b[1;32m    637\u001b[0m     \u001b[0;32mdef\u001b[0m \u001b[0mget\u001b[0m\u001b[0;34m(\u001b[0m\u001b[0mself\u001b[0m\u001b[0;34m,\u001b[0m \u001b[0mtimeout\u001b[0m\u001b[0;34m=\u001b[0m\u001b[0;32mNone\u001b[0m\u001b[0;34m)\u001b[0m\u001b[0;34m:\u001b[0m\u001b[0;34m\u001b[0m\u001b[0m\n",
      "\u001b[0;32m~/anaconda3/lib/python3.6/threading.py\u001b[0m in \u001b[0;36mwait\u001b[0;34m(self, timeout)\u001b[0m\n\u001b[1;32m    549\u001b[0m             \u001b[0msignaled\u001b[0m \u001b[0;34m=\u001b[0m \u001b[0mself\u001b[0m\u001b[0;34m.\u001b[0m\u001b[0m_flag\u001b[0m\u001b[0;34m\u001b[0m\u001b[0m\n\u001b[1;32m    550\u001b[0m             \u001b[0;32mif\u001b[0m \u001b[0;32mnot\u001b[0m \u001b[0msignaled\u001b[0m\u001b[0;34m:\u001b[0m\u001b[0;34m\u001b[0m\u001b[0m\n\u001b[0;32m--> 551\u001b[0;31m                 \u001b[0msignaled\u001b[0m \u001b[0;34m=\u001b[0m \u001b[0mself\u001b[0m\u001b[0;34m.\u001b[0m\u001b[0m_cond\u001b[0m\u001b[0;34m.\u001b[0m\u001b[0mwait\u001b[0m\u001b[0;34m(\u001b[0m\u001b[0mtimeout\u001b[0m\u001b[0;34m)\u001b[0m\u001b[0;34m\u001b[0m\u001b[0m\n\u001b[0m\u001b[1;32m    552\u001b[0m             \u001b[0;32mreturn\u001b[0m \u001b[0msignaled\u001b[0m\u001b[0;34m\u001b[0m\u001b[0m\n\u001b[1;32m    553\u001b[0m \u001b[0;34m\u001b[0m\u001b[0m\n",
      "\u001b[0;32m~/anaconda3/lib/python3.6/threading.py\u001b[0m in \u001b[0;36mwait\u001b[0;34m(self, timeout)\u001b[0m\n\u001b[1;32m    293\u001b[0m         \u001b[0;32mtry\u001b[0m\u001b[0;34m:\u001b[0m    \u001b[0;31m# restore state no matter what (e.g., KeyboardInterrupt)\u001b[0m\u001b[0;34m\u001b[0m\u001b[0m\n\u001b[1;32m    294\u001b[0m             \u001b[0;32mif\u001b[0m \u001b[0mtimeout\u001b[0m \u001b[0;32mis\u001b[0m \u001b[0;32mNone\u001b[0m\u001b[0;34m:\u001b[0m\u001b[0;34m\u001b[0m\u001b[0m\n\u001b[0;32m--> 295\u001b[0;31m                 \u001b[0mwaiter\u001b[0m\u001b[0;34m.\u001b[0m\u001b[0macquire\u001b[0m\u001b[0;34m(\u001b[0m\u001b[0;34m)\u001b[0m\u001b[0;34m\u001b[0m\u001b[0m\n\u001b[0m\u001b[1;32m    296\u001b[0m                 \u001b[0mgotit\u001b[0m \u001b[0;34m=\u001b[0m \u001b[0;32mTrue\u001b[0m\u001b[0;34m\u001b[0m\u001b[0m\n\u001b[1;32m    297\u001b[0m             \u001b[0;32melse\u001b[0m\u001b[0;34m:\u001b[0m\u001b[0;34m\u001b[0m\u001b[0m\n",
      "\u001b[0;31mKeyboardInterrupt\u001b[0m: "
     ]
    }
   ],
   "source": [
    "rfc = RandomForestClassifier(random_state=12345)\n",
    "\n",
    "param_grid_rf = {\n",
    "    'n_estimators': [100,200,300,400,500],\n",
    "    'max_features': list(range(1, 15))\n",
    "    ,'max_depth': list(range(1, 11))  \n",
    "}\n",
    "\n",
    "CV_rfc = GridSearchCV(n_jobs = -1, estimator=rfc, param_grid = param_grid_rf, cv=5,\n",
    "                      verbose=1, return_train_score=True)\n",
    "CV_rfc.fit(train_features,train_labels)"
   ]
  },
  {
   "cell_type": "code",
   "execution_count": null,
   "metadata": {
    "ExecuteTime": {
     "end_time": "2018-05-28T21:09:42.172761Z",
     "start_time": "2018-05-28T21:09:42.155036Z"
    },
    "scrolled": true
   },
   "outputs": [],
   "source": [
    "mean_test = pd.DataFrame({'Accuracy': CV_rfc.cv_results_['mean_test_score']})\n",
    "params = pd.DataFrame(CV_rfc.cv_results_['params']) \n",
    "accuracy_result = params.join(mean_test).sort_values('Accuracy', ascending=False) #display top 10 results\n",
    "accuracy_result.head(10)"
   ]
  },
  {
   "cell_type": "code",
   "execution_count": null,
   "metadata": {
    "ExecuteTime": {
     "end_time": "2018-05-28T22:22:45.606042Z",
     "start_time": "2018-05-28T22:22:43.888012Z"
    },
    "scrolled": false
   },
   "outputs": [],
   "source": [
    "rfc2 = RandomForestClassifier(n_estimators=400, max_depth=7, max_features=11)\n",
    "rfc2.fit(train_features, train_labels)\n",
    "rfc2_predictions = rfc2.predict(test_features)\n",
    "print('Random Forest with Optimized Parameters Accuracy:', accuracy_score(rfc2_predictions, test_labels))"
   ]
  },
  {
   "cell_type": "markdown",
   "metadata": {
    "ExecuteTime": {
     "end_time": "2018-05-28T01:23:20.724548Z",
     "start_time": "2018-05-28T01:23:20.706183Z"
    },
    "collapsed": true
   },
   "source": [
    "## XGBoost Hyperparameter Tuning"
   ]
  },
  {
   "cell_type": "code",
   "execution_count": null,
   "metadata": {
    "ExecuteTime": {
     "end_time": "2018-05-28T22:20:25.719208Z",
     "start_time": "2018-05-28T22:11:32.780218Z"
    }
   },
   "outputs": [],
   "source": [
    "xgb = XGBClassifier(random_state=12345)\n",
    "#xgb.fit(train_features,train_labels, verbose=True)\n",
    "\n",
    "param_grid_xgb = {\n",
    "    'learning_rate': [0.1],\n",
    "    'n_estimators': list(range(1,102,5)),\n",
    "    'max_depth': list(range(2,15))\n",
    "}\n",
    "CV_xgb = GridSearchCV(n_jobs=-1, estimator=xgb, param_grid = param_grid_xgb, cv=5,\n",
    "                     verbose=1, return_train_score=True)\n",
    "CV_xgb.fit(train_features,train_labels)"
   ]
  },
  {
   "cell_type": "code",
   "execution_count": 784,
   "metadata": {
    "ExecuteTime": {
     "end_time": "2018-05-29T00:42:14.123904Z",
     "start_time": "2018-05-29T00:42:14.106946Z"
    },
    "collapsed": true
   },
   "outputs": [
    {
     "data": {
      "text/html": [
       "<div>\n",
       "<style scoped>\n",
       "    .dataframe tbody tr th:only-of-type {\n",
       "        vertical-align: middle;\n",
       "    }\n",
       "\n",
       "    .dataframe tbody tr th {\n",
       "        vertical-align: top;\n",
       "    }\n",
       "\n",
       "    .dataframe thead th {\n",
       "        text-align: right;\n",
       "    }\n",
       "</style>\n",
       "<table border=\"1\" class=\"dataframe\">\n",
       "  <thead>\n",
       "    <tr style=\"text-align: right;\">\n",
       "      <th></th>\n",
       "      <th>learning_rate</th>\n",
       "      <th>max_depth</th>\n",
       "      <th>n_estimators</th>\n",
       "      <th>Accuracy</th>\n",
       "    </tr>\n",
       "  </thead>\n",
       "  <tbody>\n",
       "    <tr>\n",
       "      <th>76</th>\n",
       "      <td>0.1</td>\n",
       "      <td>5</td>\n",
       "      <td>66</td>\n",
       "      <td>0.697500</td>\n",
       "    </tr>\n",
       "    <tr>\n",
       "      <th>62</th>\n",
       "      <td>0.1</td>\n",
       "      <td>4</td>\n",
       "      <td>101</td>\n",
       "      <td>0.696667</td>\n",
       "    </tr>\n",
       "    <tr>\n",
       "      <th>61</th>\n",
       "      <td>0.1</td>\n",
       "      <td>4</td>\n",
       "      <td>96</td>\n",
       "      <td>0.696250</td>\n",
       "    </tr>\n",
       "    <tr>\n",
       "      <th>73</th>\n",
       "      <td>0.1</td>\n",
       "      <td>5</td>\n",
       "      <td>51</td>\n",
       "      <td>0.695833</td>\n",
       "    </tr>\n",
       "    <tr>\n",
       "      <th>77</th>\n",
       "      <td>0.1</td>\n",
       "      <td>5</td>\n",
       "      <td>71</td>\n",
       "      <td>0.695417</td>\n",
       "    </tr>\n",
       "    <tr>\n",
       "      <th>75</th>\n",
       "      <td>0.1</td>\n",
       "      <td>5</td>\n",
       "      <td>61</td>\n",
       "      <td>0.695417</td>\n",
       "    </tr>\n",
       "    <tr>\n",
       "      <th>74</th>\n",
       "      <td>0.1</td>\n",
       "      <td>5</td>\n",
       "      <td>56</td>\n",
       "      <td>0.695417</td>\n",
       "    </tr>\n",
       "    <tr>\n",
       "      <th>59</th>\n",
       "      <td>0.1</td>\n",
       "      <td>4</td>\n",
       "      <td>86</td>\n",
       "      <td>0.695000</td>\n",
       "    </tr>\n",
       "    <tr>\n",
       "      <th>58</th>\n",
       "      <td>0.1</td>\n",
       "      <td>4</td>\n",
       "      <td>81</td>\n",
       "      <td>0.694167</td>\n",
       "    </tr>\n",
       "    <tr>\n",
       "      <th>60</th>\n",
       "      <td>0.1</td>\n",
       "      <td>4</td>\n",
       "      <td>91</td>\n",
       "      <td>0.694167</td>\n",
       "    </tr>\n",
       "  </tbody>\n",
       "</table>\n",
       "</div>"
      ],
      "text/plain": [
       "    learning_rate  max_depth  n_estimators  Accuracy\n",
       "76            0.1          5            66  0.697500\n",
       "62            0.1          4           101  0.696667\n",
       "61            0.1          4            96  0.696250\n",
       "73            0.1          5            51  0.695833\n",
       "77            0.1          5            71  0.695417\n",
       "75            0.1          5            61  0.695417\n",
       "74            0.1          5            56  0.695417\n",
       "59            0.1          4            86  0.695000\n",
       "58            0.1          4            81  0.694167\n",
       "60            0.1          4            91  0.694167"
      ]
     },
     "execution_count": 784,
     "metadata": {},
     "output_type": "execute_result"
    }
   ],
   "source": [
    "mean_test = pd.DataFrame({'Accuracy': CV_xgb.cv_results_['mean_test_score']})\n",
    "params = pd.DataFrame(CV_xgb.cv_results_['params']) \n",
    "accuracy_result = params.join(mean_test).sort_values('Accuracy', ascending=False) #display top 10 results\n",
    "accuracy_result.head(10)"
   ]
  },
  {
   "cell_type": "code",
   "execution_count": null,
   "metadata": {
    "ExecuteTime": {
     "end_time": "2018-05-28T22:22:51.926712Z",
     "start_time": "2018-05-28T22:22:51.576302Z"
    }
   },
   "outputs": [],
   "source": [
    "xgb2 = XGBClassifier(n_estimators=50, max_depth=3, \n",
    "                     learning_rate=0.1, random_state=12345)\n",
    "xgb2.fit(train_features, train_labels)\n",
    "xgb2_predictions = xgb2.predict(test_features)\n",
    "print('XGBoost with Optimized Parameters Accuracy:', accuracy_score(xgb2_predictions, test_labels))"
   ]
  },
  {
   "cell_type": "markdown",
   "metadata": {
    "heading_collapsed": true
   },
   "source": [
    "# Imputations"
   ]
  },
  {
   "cell_type": "code",
   "execution_count": null,
   "metadata": {
    "ExecuteTime": {
     "end_time": "2018-05-28T21:24:21.735264Z",
     "start_time": "2018-05-28T21:24:21.683396Z"
    },
    "hidden": true
   },
   "outputs": [],
   "source": [
    "clean_merged1 = pd.read_csv('/Users/Kenny/Dropbox/Stats-101C-Kaggle/Datasets/cleaned_merged1.csv') \n",
    "print(clean_merged1.shape)\n",
    "print(clean_merged1.columns)\n",
    "clean_merged1.head()"
   ]
  },
  {
   "cell_type": "code",
   "execution_count": null,
   "metadata": {
    "ExecuteTime": {
     "end_time": "2018-05-28T21:44:50.701585Z",
     "start_time": "2018-05-28T21:44:50.694182Z"
    },
    "hidden": true
   },
   "outputs": [],
   "source": []
  },
  {
   "cell_type": "markdown",
   "metadata": {},
   "source": [
    "# Ensemble Model"
   ]
  },
  {
   "cell_type": "code",
   "execution_count": null,
   "metadata": {
    "ExecuteTime": {
     "end_time": "2018-05-29T00:29:30.097052Z",
     "start_time": "2018-05-29T00:29:30.084888Z"
    },
    "code_folding": []
   },
   "outputs": [],
   "source": [
    "from sklearn.model_selection import StratifiedKFold\n",
    "\n",
    "X = train_features\n",
    "y = train_labels.copy()\n",
    "y[y=='N'] = 0\n",
    "y[y=='F'] = 1\n",
    "y = y.astype(int)\n"
   ]
  },
  {
   "cell_type": "code",
   "execution_count": 847,
   "metadata": {
    "ExecuteTime": {
     "end_time": "2018-05-29T01:01:10.701939Z",
     "start_time": "2018-05-29T01:01:05.106432Z"
    },
    "collapsed": true
   },
   "outputs": [
    {
     "name": "stdout",
     "output_type": "stream",
     "text": [
      "3-fold cross validation:\n",
      "\n",
      "Accuracy: 0.70330 (+/- 0.00828) [Random Forest Gini]\n",
      "Accuracy: 0.70241 (+/- 0.00931) [Random Forest Entropy]\n",
      "Accuracy: 0.71353 (+/- 0.00911) [XGBoost]\n",
      "Accuracy: 0.70018 (+/- 0.00423) [StackingClassifier]\n"
     ]
    }
   ],
   "source": [
    "from mlxtend.classifier import StackingClassifier\n",
    "\n",
    "clf1 = RandomForestClassifier(n_estimators=200, criterion='gini',max_depth=7, max_features='auto')\n",
    "clf2 = RandomForestClassifier(n_estimators=200, criterion='entropy',max_depth=7,\n",
    "                             max_features='auto')\n",
    "clf3 = XGBClassifier(learning_rate=0.1, max_depth=3, n_estimators=56)\n",
    "\n",
    "# clf4 = SVC(C=1, gamma=0.1)\n",
    "lr = LogisticRegression()\n",
    "classifiers = [clf1,clf2,clf3]\n",
    "\n",
    "sclf = StackingClassifier(classifiers=classifiers, \n",
    "                          average_probas=False,\n",
    "                          meta_classifier=lr)\n",
    "print('3-fold cross validation:\\n')\n",
    "for clf, label in zip([clf1, clf2, clf3, sclf], \n",
    "                      ['Random Forest Gini', \n",
    "                       'Random Forest Entropy', \n",
    "                       'XGBoost',\n",
    "                       'StackingClassifier']):\n",
    "    scores = cross_val_score(clf, X, y, cv=3)\n",
    "    print(\"Accuracy: %0.5f (+/- %0.5f) [%s]\" \n",
    "          % (scores.mean(), scores.std(), label))"
   ]
  },
  {
   "cell_type": "code",
   "execution_count": 960,
   "metadata": {
    "ExecuteTime": {
     "end_time": "2018-05-29T02:09:39.114975Z",
     "start_time": "2018-05-29T02:09:38.351875Z"
    },
    "scrolled": false
   },
   "outputs": [],
   "source": [
    "classifiers = [clf1, clf3]\n",
    "def most_frequent_class_train(features, labels, classifiers):\n",
    "    trained_models = []\n",
    "    for clf in classifiers:\n",
    "        clf.fit(features, labels)\n",
    "        trained_models.append(clf)\n",
    "    return(trained_models)\n",
    "\n",
    "def most_frequent_class_results(trained_model_list, features):\n",
    "    results = []\n",
    "    for model in trained_model_list:\n",
    "        prediction = model.predict(features)\n",
    "        results.append(prediction)\n",
    "    results_df = pd.DataFrame({\n",
    "        'rf_gini': results[0],\n",
    "        'rf_entropy': results[1],\n",
    "        'xgb': results[2]\n",
    "    })\n",
    "    most_frequent = results_df.mode(axis=1)\n",
    "    most_frequent.columns = ['most_frequent']\n",
    "    results_df = results_df.join(most_frequent)\n",
    "    results_df.most_frequent.value_counts(normalize=True)\n",
    "    return(results_df)\n",
    "\n",
    "def intersection_results(trained_model_list, features):\n",
    "    results = []\n",
    "    for model in trained_models:\n",
    "        prediction = model.predict(features)\n",
    "        results.append(prediction)\n",
    "    results_df = pd.DataFrame({\n",
    "    'rf_gini': results[0],\n",
    "    'xgb': results[1]\n",
    "    })\n",
    "    return(results_df)\n",
    "\n",
    "\n",
    "trained_models = most_frequent_class_train(features,labels, classifiers)\n",
    "\n",
    "results_df = intersection_results(trained_models, final_test_features)\n",
    "    \n",
    "results_df.iloc[:,[1,0]].to_csv('PythonResults/python3.csv', index=False)\n",
    "\n",
    "#intersection = intersection_results(trained_models, test_features)\n",
    "    \n",
    "#trained_models = most_frequent_class_train(train_features, train_labels, classifiers)\n",
    "#results = most_frequent_class_results(trained_models, test_features)\n",
    "    \n",
    "#for i, model in enumerate(results.columns):\n",
    "#    acc = accuracy_score(results_df.iloc[:,i], test_labels)\n",
    "#    print(model, acc)\n",
    "\n"
   ]
  },
  {
   "cell_type": "code",
   "execution_count": 887,
   "metadata": {
    "ExecuteTime": {
     "end_time": "2018-05-29T01:27:44.984520Z",
     "start_time": "2018-05-29T01:27:42.678808Z"
    }
   },
   "outputs": [],
   "source": [
    "final_test = pd.read_csv('Datasets/test_clean_merged.csv')\n",
    "final_test2 = final_test[features_list[1:]]\n",
    "final_test_features = pd.get_dummies(final_test2)\n",
    "\n",
    "# first training the this ensemble model of most frequent class\n",
    "full_trained = most_frequent_class_train(features, labels, classifiers)\n",
    "results_full_trained = most_frequent_class_results(full_trained ,final_test_features)\n",
    "results_full_trained.rf_entropy.value_counts(normalize=True)\n",
    "\n",
    "results_df = pd.DataFrame({'id': final_test.id,\n",
    "                          'Fatal': results_full_trained.most_frequent})\n",
    "results_df[results_df.Fatal == 'F'].Fatal = 'Yes'\n",
    "results_df[results_df.Fatal == 'N'].Fatal = 'No'\n",
    "\n",
    "results_df.iloc[:,[1,0]].to_csv('PythonResults/python2.csv', index=False)"
   ]
  },
  {
   "cell_type": "code",
   "execution_count": null,
   "metadata": {},
   "outputs": [],
   "source": []
  },
  {
   "cell_type": "code",
   "execution_count": null,
   "metadata": {},
   "outputs": [],
   "source": []
  },
  {
   "cell_type": "markdown",
   "metadata": {
    "ExecuteTime": {
     "end_time": "2018-05-29T00:30:39.529607Z",
     "start_time": "2018-05-29T00:30:37.531226Z"
    }
   },
   "source": [
    "sclf.fit(X, y)\n",
    "\n",
    "sclf_prediction = sclf.predict(test_features)\n",
    "sclf_prediction = sclf_prediction.astype(str)\n",
    "sclf_prediction[sclf_prediction == '1'] = 'F'\n",
    "sclf_prediction[sclf_prediction == '0'] = 'N'\n",
    "\n",
    "accuracy_score(sclf_prediction, test_labels)"
   ]
  },
  {
   "cell_type": "code",
   "execution_count": null,
   "metadata": {
    "ExecuteTime": {
     "end_time": "2018-05-29T00:19:33.882423Z",
     "start_time": "2018-05-29T00:19:32.387190Z"
    }
   },
   "outputs": [],
   "source": [
    "final_test = pd.read_csv('Datasets/test_clean_merged.csv')\n",
    "final_test2 = final_test[features_list[1:]]\n",
    "final_test_features = pd.get_dummies(final_test2)\n",
    "\n",
    "labels_full = labels.copy()\n",
    "labels_full[labels_full=='N'] = 0\n",
    "labels_full[labels_full=='F'] = 1\n",
    "labels_full_int = labels_full.astype(int)\n",
    "\n",
    "sclf.fit(features,labels_full_int)\n",
    "\n",
    "final_test_predict = sclf.predict(final_test_features).astype(str)\n",
    "final_test_predict[final_test_predict == '1'] = 'Yes'\n",
    "final_test_predict[final_test_predict == '0'] = 'No'\n",
    "\n",
    "final_test_df = pd.DataFrame({'id': final_test.id,\n",
    "                              'Fatal': final_test_predict})\n",
    "\n",
    "final_test_output = final_test_df.iloc[:,[1,0]]\n",
    "final_test_output.to_csv('PythonResults/python1.csv', index=False)"
   ]
  },
  {
   "cell_type": "code",
   "execution_count": null,
   "metadata": {},
   "outputs": [],
   "source": []
  }
 ],
 "metadata": {
  "kernelspec": {
   "display_name": "Python 3",
   "language": "python",
   "name": "python3"
  },
  "language_info": {
   "codemirror_mode": {
    "name": "ipython",
    "version": 3
   },
   "file_extension": ".py",
   "mimetype": "text/x-python",
   "name": "python",
   "nbconvert_exporter": "python",
   "pygments_lexer": "ipython3",
   "version": "3.6.4"
  },
  "toc": {
   "base_numbering": 1,
   "nav_menu": {},
   "number_sections": true,
   "sideBar": true,
   "skip_h1_title": false,
   "title_cell": "Table of Contents",
   "title_sidebar": "Contents",
   "toc_cell": false,
   "toc_position": {},
   "toc_section_display": true,
   "toc_window_display": false
  },
  "varInspector": {
   "cols": {
    "lenName": 16,
    "lenType": 16,
    "lenVar": "400"
   },
   "kernels_config": {
    "python": {
     "delete_cmd_postfix": "",
     "delete_cmd_prefix": "del ",
     "library": "var_list.py",
     "varRefreshCmd": "print(var_dic_list())"
    },
    "r": {
     "delete_cmd_postfix": ") ",
     "delete_cmd_prefix": "rm(",
     "library": "var_list.r",
     "varRefreshCmd": "cat(var_dic_list()) "
    }
   },
   "oldHeight": 134,
   "position": {
    "height": "201px",
    "left": "872px",
    "right": "20px",
    "top": "5px",
    "width": "409px"
   },
   "types_to_exclude": [
    "module",
    "function",
    "builtin_function_or_method",
    "instance",
    "_Feature"
   ],
   "varInspector_section_display": "block",
   "window_display": false
  }
 },
 "nbformat": 4,
 "nbformat_minor": 2
}
