{
 "cells": [
  {
   "cell_type": "markdown",
   "metadata": {
    "heading_collapsed": true
   },
   "source": [
    "# Testing out algorithms in python"
   ]
  },
  {
   "cell_type": "code",
   "execution_count": null,
   "metadata": {
    "ExecuteTime": {
     "end_time": "2018-05-28T07:07:50.262971Z",
     "start_time": "2018-05-28T07:07:50.259592Z"
    },
    "hidden": true,
    "scrolled": false
   },
   "outputs": [],
   "source": [
    "import pandas as pd\n",
    "import numpy as np"
   ]
  },
  {
   "cell_type": "code",
   "execution_count": null,
   "metadata": {
    "ExecuteTime": {
     "end_time": "2018-05-28T07:07:52.530204Z",
     "start_time": "2018-05-28T07:07:52.506177Z"
    },
    "hidden": true,
    "scrolled": false
   },
   "outputs": [],
   "source": [
    "train = pd.read_csv('train.csv')\n",
    "print(train.shape)"
   ]
  },
  {
   "cell_type": "code",
   "execution_count": null,
   "metadata": {
    "ExecuteTime": {
     "end_time": "2018-05-28T00:29:23.821971Z",
     "start_time": "2018-05-28T00:29:23.814309Z"
    },
    "hidden": true,
    "scrolled": false
   },
   "outputs": [],
   "source": [
    "train.SubjectRace.value_counts(normalize=True)"
   ]
  },
  {
   "cell_type": "markdown",
   "metadata": {},
   "source": [
    "# Importing the cleaned up dataset from R"
   ]
  },
  {
   "cell_type": "markdown",
   "metadata": {},
   "source": [
    "## Setting up the Dataset"
   ]
  },
  {
   "cell_type": "code",
   "execution_count": 841,
   "metadata": {
    "ExecuteTime": {
     "end_time": "2018-05-29T01:00:22.764458Z",
     "start_time": "2018-05-29T01:00:22.737133Z"
    }
   },
   "outputs": [
    {
     "name": "stdout",
     "output_type": "stream",
     "text": [
      "(3000, 37)\n"
     ]
    }
   ],
   "source": [
    "clean_merged = pd.read_csv('/Users/Kenny/Dropbox/Stats-101C-Kaggle/Datasets/cleaned_merged1.csv') \n",
    "print(clean_merged.shape)\n",
    "#print(clean_merged1.columns)\n",
    "#clean_merged1.head()"
   ]
  },
  {
   "cell_type": "code",
   "execution_count": 863,
   "metadata": {
    "ExecuteTime": {
     "end_time": "2018-05-29T01:17:22.800932Z",
     "start_time": "2018-05-29T01:17:22.788804Z"
    }
   },
   "outputs": [
    {
     "data": {
      "text/plain": [
       "(2811, 11)"
      ]
     },
     "execution_count": 863,
     "metadata": {},
     "output_type": "execute_result"
    }
   ],
   "source": [
    "clean_merged1 = clean_merged[clean_merged.Fatal != 'U']\n",
    "features_list = ['Fatal','SubjectRace', 'SubjectGender', 'SubjectArmed',\n",
    "                               'ShotsClean', 'AgeGroup', 'NumberOfOfficers',\n",
    "                                   'Seasons', 'Weekend', 'estimate2016', 'mainOfficerRace']\n",
    "clean_merged1 = clean_merged1[features_list]\n",
    "clean_merged1.shape\n",
    "#clean_merged1.loc[clean_merged1.AgeGroup==0, 'AgeGroup'] = 5\n",
    "#clean_merged1.dtypes"
   ]
  },
  {
   "cell_type": "code",
   "execution_count": 864,
   "metadata": {
    "ExecuteTime": {
     "end_time": "2018-05-29T01:17:27.386277Z",
     "start_time": "2018-05-29T01:17:27.366925Z"
    },
    "scrolled": false
   },
   "outputs": [
    {
     "name": "stdout",
     "output_type": "stream",
     "text": [
      "train_features dimensions: (2248, 24)\n",
      "test_features dimensions: (563, 24)\n",
      "train_labels dimensions: (2248,)\n",
      "test_labels dimensions: (563,)\n"
     ]
    }
   ],
   "source": [
    "from sklearn.model_selection import train_test_split\n",
    "\n",
    "features = pd.get_dummies(clean_merged1.iloc[:,1:])\n",
    "labels = clean_merged1.Fatal\n",
    "\n",
    "train_features, test_features, train_labels, test_labels = train_test_split(features, \n",
    "                                                                            labels, \n",
    "                                                                            test_size=.2,\n",
    "                                                                            random_state=1255)\n",
    "print('train_features dimensions:', train_features.shape)\n",
    "print('test_features dimensions:', test_features.shape)\n",
    "print('train_labels dimensions:', train_labels.shape)\n",
    "print('test_labels dimensions:', test_labels.shape)"
   ]
  },
  {
   "cell_type": "markdown",
   "metadata": {},
   "source": [
    "### This will be the value to beat (the just say no method): $66.9\\%$"
   ]
  },
  {
   "cell_type": "code",
   "execution_count": null,
   "metadata": {
    "ExecuteTime": {
     "end_time": "2018-05-28T22:40:12.452402Z",
     "start_time": "2018-05-28T22:40:12.439046Z"
    },
    "scrolled": false
   },
   "outputs": [],
   "source": [
    "clean_merged1.Fatal.value_counts(normalize=True)"
   ]
  },
  {
   "cell_type": "code",
   "execution_count": null,
   "metadata": {
    "ExecuteTime": {
     "end_time": "2018-05-28T22:40:13.183173Z",
     "start_time": "2018-05-28T22:40:13.168327Z"
    },
    "scrolled": false
   },
   "outputs": [],
   "source": [
    "from sklearn.linear_model import LogisticRegression\n",
    "from sklearn.svm import SVC, LinearSVC\n",
    "from sklearn.neighbors import KNeighborsClassifier\n",
    "from sklearn.ensemble import RandomForestClassifier\n",
    "from sklearn.ensemble import ExtraTreesClassifier\n",
    "from sklearn.naive_bayes import GaussianNB\n",
    "from sklearn.neural_network import MLPClassifier\n",
    "from xgboost import XGBClassifier\n",
    "from sklearn.ensemble import AdaBoostClassifier\n",
    "\n",
    "from sklearn.model_selection import cross_val_score\n",
    "from sklearn.metrics import accuracy_score\n",
    "\n",
    "# xgboost causing warnings\n",
    "import warnings\n",
    "warnings.filterwarnings('ignore')"
   ]
  },
  {
   "cell_type": "code",
   "execution_count": null,
   "metadata": {
    "ExecuteTime": {
     "end_time": "2018-05-28T22:40:33.277012Z",
     "start_time": "2018-05-28T22:40:25.467803Z"
    },
    "code_folding": [
     13,
     20,
     24
    ],
    "scrolled": false
   },
   "outputs": [],
   "source": [
    "models = []\n",
    "models.append(('LogisticRegression', LogisticRegression()))\n",
    "models.append((\"SVC\", SVC(C=1, gamma=0.1)))\n",
    "models.append((\"KNeighborsClassifier\", KNeighborsClassifier(n_neighbors=5)))\n",
    "models.append((\"RandomForestClassifier_gini\", RandomForestClassifier(n_estimators=300,\n",
    "                                                                criterion='gini',\n",
    "                                                                max_depth=7)))\n",
    "models.append((\"RandomForestClassifier_entropy\", RandomForestClassifier(n_estimators=300,\n",
    "                                                                criterion = 'entropy',\n",
    "                                                                max_depth=7)))\n",
    "#models.append(('ExtremeRandomForest_gini', ExtraTreesClassifier(n_estimators = 200,\n",
    "#                                                          max_depth = 7,\n",
    "#                                                               criterion='gini')))\n",
    "#models.append(('ExtremeRandomForest_entropy', ExtraTreesClassifier(n_estimators = 200,\n",
    "#                                                          max_depth = 7,\n",
    "#                                                               criterion='entropy')))\n",
    "models.append(('XGBoost', XGBClassifier(learning_rate=0.1, n_estimators=100,\n",
    "                                       max_depth= 5)))\n",
    "#models.append(('Adaboost', AdaBoostClassifier(learning_rate=0.1, n_estimators=100)))\n",
    "\n",
    "results = []\n",
    "names = []\n",
    "for name,model in models:\n",
    "    result = cross_val_score(model, train_features, train_labels, cv=5)\n",
    "    names.append(name)\n",
    "    results.append(result)\n",
    "\n",
    "mean_results = []\n",
    "sd_results = []\n",
    "for model in results:\n",
    "    mean_results.append(model.mean())\n",
    "    sd_results.append(model.std())\n",
    "\n",
    "results_df = pd.DataFrame({'Model': names,\n",
    "              'Mean Classification Rate': mean_results,\n",
    "              'Standard Deviation': sd_results\n",
    "             })\n",
    "results_df = results_df.iloc[:,[1,0,2]]"
   ]
  },
  {
   "cell_type": "code",
   "execution_count": null,
   "metadata": {
    "ExecuteTime": {
     "end_time": "2018-05-28T22:40:33.760844Z",
     "start_time": "2018-05-28T22:40:33.742728Z"
    },
    "scrolled": false
   },
   "outputs": [],
   "source": [
    "results_df.sort_values(by = 'Mean Classification Rate', ascending=False)"
   ]
  },
  {
   "cell_type": "markdown",
   "metadata": {
    "heading_collapsed": true
   },
   "source": [
    "## SVC Hyperparameter Tuning (performs poorly)"
   ]
  },
  {
   "cell_type": "code",
   "execution_count": null,
   "metadata": {
    "ExecuteTime": {
     "end_time": "2018-05-28T22:34:25.768612Z",
     "start_time": "2018-05-28T22:34:08.472190Z"
    },
    "hidden": true
   },
   "outputs": [],
   "source": [
    "from sklearn.model_selection import GridSearchCV\n",
    "svc = SVC(random_state=12345)\n",
    "param_grid_svc = {\n",
    "    'C': [0.001, 0.01, 0.1, 1, 10],\n",
    "    'gamma' : [0.001, 0.01, 0.1, 1],\n",
    "}\n",
    "\n",
    "CV_svc = GridSearchCV(n_jobs=-1, estimator=svc, param_grid = param_grid_svc, cv=5,\n",
    "                     verbose=1, return_train_score=True)\n",
    "CV_svc.fit(train_features,train_labels)"
   ]
  },
  {
   "cell_type": "code",
   "execution_count": null,
   "metadata": {
    "ExecuteTime": {
     "end_time": "2018-05-28T22:34:26.158558Z",
     "start_time": "2018-05-28T22:34:26.142729Z"
    },
    "hidden": true
   },
   "outputs": [],
   "source": [
    "mean_test = pd.DataFrame({'Accuracy': CV_svc.cv_results_['mean_test_score']})\n",
    "params = pd.DataFrame(CV_svc.cv_results_['params'])\n",
    "accuracy_result = params.join(mean_test).sort_values('Accuracy', ascending=False)\n",
    "accuracy_result.head()"
   ]
  },
  {
   "cell_type": "code",
   "execution_count": null,
   "metadata": {
    "ExecuteTime": {
     "end_time": "2018-05-28T20:22:55.736623Z",
     "start_time": "2018-05-28T20:22:55.464726Z"
    },
    "hidden": true
   },
   "outputs": [],
   "source": [
    "svc2= SVC(C=10, gamma=0.01)\n",
    "svc2.fit(train_features,train_labels)\n",
    "svc2_predictions = svc2.predict(test_features)\n",
    "print('SVC with Optimized Hyperparameters Accuracy:', accuracy_score(svc2_predictions, test_labels))"
   ]
  },
  {
   "cell_type": "markdown",
   "metadata": {
    "ExecuteTime": {
     "end_time": "2018-05-28T00:08:26.935729Z",
     "start_time": "2018-05-28T00:08:26.932969Z"
    },
    "heading_collapsed": true
   },
   "source": [
    "## Random Forest Hyperparameter Tuning"
   ]
  },
  {
   "cell_type": "code",
   "execution_count": null,
   "metadata": {
    "ExecuteTime": {
     "end_time": "2018-05-28T21:00:52.386505Z",
     "start_time": "2018-05-28T20:39:30.269619Z"
    },
    "hidden": true
   },
   "outputs": [],
   "source": [
    "rfc = RandomForestClassifier(random_state=12345)\n",
    "\n",
    "param_grid_rf = {\n",
    "    'n_estimators': [100,200,300,400,500],\n",
    "    'max_features': list(range(1, 15))\n",
    "    ,'max_depth': list(range(1, 11))  \n",
    "}\n",
    "\n",
    "CV_rfc = GridSearchCV(n_jobs = -1, estimator=rfc, param_grid = param_grid_rf, cv=5,\n",
    "                      verbose=1, return_train_score=True)\n",
    "CV_rfc.fit(train_features,train_labels)"
   ]
  },
  {
   "cell_type": "code",
   "execution_count": null,
   "metadata": {
    "ExecuteTime": {
     "end_time": "2018-05-28T21:09:42.172761Z",
     "start_time": "2018-05-28T21:09:42.155036Z"
    },
    "hidden": true,
    "scrolled": true
   },
   "outputs": [],
   "source": [
    "mean_test = pd.DataFrame({'Accuracy': CV_rfc.cv_results_['mean_test_score']})\n",
    "params = pd.DataFrame(CV_rfc.cv_results_['params']) \n",
    "accuracy_result = params.join(mean_test).sort_values('Accuracy', ascending=False) #display top 10 results\n",
    "accuracy_result.head(10)"
   ]
  },
  {
   "cell_type": "code",
   "execution_count": null,
   "metadata": {
    "ExecuteTime": {
     "end_time": "2018-05-28T22:22:45.606042Z",
     "start_time": "2018-05-28T22:22:43.888012Z"
    },
    "hidden": true,
    "scrolled": false
   },
   "outputs": [],
   "source": [
    "rfc2 = RandomForestClassifier(n_estimators=400, max_depth=7, max_features=11)\n",
    "rfc2.fit(train_features, train_labels)\n",
    "rfc2_predictions = rfc2.predict(test_features)\n",
    "print('Random Forest with Optimized Parameters Accuracy:', accuracy_score(rfc2_predictions, test_labels))"
   ]
  },
  {
   "cell_type": "markdown",
   "metadata": {
    "ExecuteTime": {
     "end_time": "2018-05-28T01:23:20.724548Z",
     "start_time": "2018-05-28T01:23:20.706183Z"
    },
    "collapsed": true
   },
   "source": [
    "## XGBoost Hyperparameter Tuning"
   ]
  },
  {
   "cell_type": "code",
   "execution_count": null,
   "metadata": {
    "ExecuteTime": {
     "end_time": "2018-05-28T22:20:25.719208Z",
     "start_time": "2018-05-28T22:11:32.780218Z"
    }
   },
   "outputs": [],
   "source": [
    "xgb = XGBClassifier(random_state=12345)\n",
    "#xgb.fit(train_features,train_labels, verbose=True)\n",
    "\n",
    "param_grid_xgb = {\n",
    "    'learning_rate': [0.1],\n",
    "    'n_estimators': list(range(1,102,5)),\n",
    "    'max_depth': list(range(2,15))\n",
    "}\n",
    "CV_xgb = GridSearchCV(n_jobs=-1, estimator=xgb, param_grid = param_grid_xgb, cv=5,\n",
    "                     verbose=1, return_train_score=True)\n",
    "CV_xgb.fit(train_features,train_labels)"
   ]
  },
  {
   "cell_type": "code",
   "execution_count": 784,
   "metadata": {
    "ExecuteTime": {
     "end_time": "2018-05-29T00:42:14.123904Z",
     "start_time": "2018-05-29T00:42:14.106946Z"
    },
    "collapsed": true
   },
   "outputs": [
    {
     "data": {
      "text/html": [
       "<div>\n",
       "<style scoped>\n",
       "    .dataframe tbody tr th:only-of-type {\n",
       "        vertical-align: middle;\n",
       "    }\n",
       "\n",
       "    .dataframe tbody tr th {\n",
       "        vertical-align: top;\n",
       "    }\n",
       "\n",
       "    .dataframe thead th {\n",
       "        text-align: right;\n",
       "    }\n",
       "</style>\n",
       "<table border=\"1\" class=\"dataframe\">\n",
       "  <thead>\n",
       "    <tr style=\"text-align: right;\">\n",
       "      <th></th>\n",
       "      <th>learning_rate</th>\n",
       "      <th>max_depth</th>\n",
       "      <th>n_estimators</th>\n",
       "      <th>Accuracy</th>\n",
       "    </tr>\n",
       "  </thead>\n",
       "  <tbody>\n",
       "    <tr>\n",
       "      <th>76</th>\n",
       "      <td>0.1</td>\n",
       "      <td>5</td>\n",
       "      <td>66</td>\n",
       "      <td>0.697500</td>\n",
       "    </tr>\n",
       "    <tr>\n",
       "      <th>62</th>\n",
       "      <td>0.1</td>\n",
       "      <td>4</td>\n",
       "      <td>101</td>\n",
       "      <td>0.696667</td>\n",
       "    </tr>\n",
       "    <tr>\n",
       "      <th>61</th>\n",
       "      <td>0.1</td>\n",
       "      <td>4</td>\n",
       "      <td>96</td>\n",
       "      <td>0.696250</td>\n",
       "    </tr>\n",
       "    <tr>\n",
       "      <th>73</th>\n",
       "      <td>0.1</td>\n",
       "      <td>5</td>\n",
       "      <td>51</td>\n",
       "      <td>0.695833</td>\n",
       "    </tr>\n",
       "    <tr>\n",
       "      <th>77</th>\n",
       "      <td>0.1</td>\n",
       "      <td>5</td>\n",
       "      <td>71</td>\n",
       "      <td>0.695417</td>\n",
       "    </tr>\n",
       "    <tr>\n",
       "      <th>75</th>\n",
       "      <td>0.1</td>\n",
       "      <td>5</td>\n",
       "      <td>61</td>\n",
       "      <td>0.695417</td>\n",
       "    </tr>\n",
       "    <tr>\n",
       "      <th>74</th>\n",
       "      <td>0.1</td>\n",
       "      <td>5</td>\n",
       "      <td>56</td>\n",
       "      <td>0.695417</td>\n",
       "    </tr>\n",
       "    <tr>\n",
       "      <th>59</th>\n",
       "      <td>0.1</td>\n",
       "      <td>4</td>\n",
       "      <td>86</td>\n",
       "      <td>0.695000</td>\n",
       "    </tr>\n",
       "    <tr>\n",
       "      <th>58</th>\n",
       "      <td>0.1</td>\n",
       "      <td>4</td>\n",
       "      <td>81</td>\n",
       "      <td>0.694167</td>\n",
       "    </tr>\n",
       "    <tr>\n",
       "      <th>60</th>\n",
       "      <td>0.1</td>\n",
       "      <td>4</td>\n",
       "      <td>91</td>\n",
       "      <td>0.694167</td>\n",
       "    </tr>\n",
       "  </tbody>\n",
       "</table>\n",
       "</div>"
      ],
      "text/plain": [
       "    learning_rate  max_depth  n_estimators  Accuracy\n",
       "76            0.1          5            66  0.697500\n",
       "62            0.1          4           101  0.696667\n",
       "61            0.1          4            96  0.696250\n",
       "73            0.1          5            51  0.695833\n",
       "77            0.1          5            71  0.695417\n",
       "75            0.1          5            61  0.695417\n",
       "74            0.1          5            56  0.695417\n",
       "59            0.1          4            86  0.695000\n",
       "58            0.1          4            81  0.694167\n",
       "60            0.1          4            91  0.694167"
      ]
     },
     "execution_count": 784,
     "metadata": {},
     "output_type": "execute_result"
    }
   ],
   "source": [
    "mean_test = pd.DataFrame({'Accuracy': CV_xgb.cv_results_['mean_test_score']})\n",
    "params = pd.DataFrame(CV_xgb.cv_results_['params']) \n",
    "accuracy_result = params.join(mean_test).sort_values('Accuracy', ascending=False) #display top 10 results\n",
    "accuracy_result.head(10)"
   ]
  },
  {
   "cell_type": "code",
   "execution_count": null,
   "metadata": {
    "ExecuteTime": {
     "end_time": "2018-05-28T22:22:51.926712Z",
     "start_time": "2018-05-28T22:22:51.576302Z"
    }
   },
   "outputs": [],
   "source": [
    "xgb2 = XGBClassifier(n_estimators=50, max_depth=3, \n",
    "                     learning_rate=0.1, random_state=12345)\n",
    "xgb2.fit(train_features, train_labels)\n",
    "xgb2_predictions = xgb2.predict(test_features)\n",
    "print('XGBoost with Optimized Parameters Accuracy:', accuracy_score(xgb2_predictions, test_labels))"
   ]
  },
  {
   "cell_type": "markdown",
   "metadata": {
    "heading_collapsed": true
   },
   "source": [
    "# Imputations"
   ]
  },
  {
   "cell_type": "code",
   "execution_count": null,
   "metadata": {
    "ExecuteTime": {
     "end_time": "2018-05-28T21:24:21.735264Z",
     "start_time": "2018-05-28T21:24:21.683396Z"
    },
    "hidden": true
   },
   "outputs": [],
   "source": [
    "clean_merged1 = pd.read_csv('/Users/Kenny/Dropbox/Stats-101C-Kaggle/Datasets/cleaned_merged1.csv') \n",
    "print(clean_merged1.shape)\n",
    "print(clean_merged1.columns)\n",
    "clean_merged1.head()"
   ]
  },
  {
   "cell_type": "code",
   "execution_count": null,
   "metadata": {
    "ExecuteTime": {
     "end_time": "2018-05-28T21:44:50.701585Z",
     "start_time": "2018-05-28T21:44:50.694182Z"
    },
    "hidden": true
   },
   "outputs": [],
   "source": []
  },
  {
   "cell_type": "markdown",
   "metadata": {},
   "source": [
    "# Ensemble Model"
   ]
  },
  {
   "cell_type": "code",
   "execution_count": null,
   "metadata": {
    "ExecuteTime": {
     "end_time": "2018-05-29T00:29:30.097052Z",
     "start_time": "2018-05-29T00:29:30.084888Z"
    },
    "code_folding": []
   },
   "outputs": [],
   "source": [
    "from sklearn.model_selection import StratifiedKFold\n",
    "\n",
    "X = train_features\n",
    "y = train_labels.copy()\n",
    "y[y=='N'] = 0\n",
    "y[y=='F'] = 1\n",
    "y = y.astype(int)\n"
   ]
  },
  {
   "cell_type": "code",
   "execution_count": 847,
   "metadata": {
    "ExecuteTime": {
     "end_time": "2018-05-29T01:01:10.701939Z",
     "start_time": "2018-05-29T01:01:05.106432Z"
    },
    "collapsed": true
   },
   "outputs": [
    {
     "name": "stdout",
     "output_type": "stream",
     "text": [
      "3-fold cross validation:\n",
      "\n",
      "Accuracy: 0.70330 (+/- 0.00828) [Random Forest Gini]\n",
      "Accuracy: 0.70241 (+/- 0.00931) [Random Forest Entropy]\n",
      "Accuracy: 0.71353 (+/- 0.00911) [XGBoost]\n",
      "Accuracy: 0.70018 (+/- 0.00423) [StackingClassifier]\n"
     ]
    }
   ],
   "source": [
    "from mlxtend.classifier import StackingClassifier\n",
    "\n",
    "clf1 = RandomForestClassifier(n_estimators=200, criterion='gini',max_depth=7, max_features='auto')\n",
    "clf2 = RandomForestClassifier(n_estimators=200, criterion='entropy',max_depth=7,\n",
    "                             max_features='auto')\n",
    "clf3 = XGBClassifier(learning_rate=0.1, max_depth=3, n_estimators=56)\n",
    "\n",
    "# clf4 = SVC(C=1, gamma=0.1)\n",
    "lr = LogisticRegression()\n",
    "classifiers = [clf1,clf2,clf3]\n",
    "\n",
    "sclf = StackingClassifier(classifiers=classifiers, \n",
    "                          average_probas=False,\n",
    "                          meta_classifier=lr)\n",
    "print('3-fold cross validation:\\n')\n",
    "for clf, label in zip([clf1, clf2, clf3, sclf], \n",
    "                      ['Random Forest Gini', \n",
    "                       'Random Forest Entropy', \n",
    "                       'XGBoost',\n",
    "                       'StackingClassifier']):\n",
    "    scores = cross_val_score(clf, X, y, cv=3)\n",
    "    print(\"Accuracy: %0.5f (+/- %0.5f) [%s]\" \n",
    "          % (scores.mean(), scores.std(), label))"
   ]
  },
  {
   "cell_type": "code",
   "execution_count": 960,
   "metadata": {
    "ExecuteTime": {
     "end_time": "2018-05-29T02:09:39.114975Z",
     "start_time": "2018-05-29T02:09:38.351875Z"
    },
    "scrolled": false
   },
   "outputs": [],
   "source": [
    "classifiers = [clf1, clf3]\n",
    "def most_frequent_class_train(features, labels, classifiers):\n",
    "    trained_models = []\n",
    "    for clf in classifiers:\n",
    "        clf.fit(features, labels)\n",
    "        trained_models.append(clf)\n",
    "    return(trained_models)\n",
    "\n",
    "def most_frequent_class_results(trained_model_list, features):\n",
    "    results = []\n",
    "    for model in trained_model_list:\n",
    "        prediction = model.predict(features)\n",
    "        results.append(prediction)\n",
    "    results_df = pd.DataFrame({\n",
    "        'rf_gini': results[0],\n",
    "        'rf_entropy': results[1],\n",
    "        'xgb': results[2]\n",
    "    })\n",
    "    most_frequent = results_df.mode(axis=1)\n",
    "    most_frequent.columns = ['most_frequent']\n",
    "    results_df = results_df.join(most_frequent)\n",
    "    results_df.most_frequent.value_counts(normalize=True)\n",
    "    return(results_df)\n",
    "\n",
    "def intersection_results(trained_model_list, features):\n",
    "    results = []\n",
    "    for model in trained_models:\n",
    "        prediction = model.predict(features)\n",
    "        results.append(prediction)\n",
    "    results_df = pd.DataFrame({\n",
    "    'rf_gini': results[0],\n",
    "    'xgb': results[1]\n",
    "    })\n",
    "    return(results_df)\n",
    "\n",
    "\n",
    "trained_models = most_frequent_class_train(features,labels, classifiers)\n",
    "\n",
    "results_df = intersection_results(trained_models, final_test_features)\n",
    "    \n",
    "results_df.iloc[:,[1,0]].to_csv('PythonResults/python3.csv', index=False)\n",
    "\n",
    "#intersection = intersection_results(trained_models, test_features)\n",
    "    \n",
    "#trained_models = most_frequent_class_train(train_features, train_labels, classifiers)\n",
    "#results = most_frequent_class_results(trained_models, test_features)\n",
    "    \n",
    "#for i, model in enumerate(results.columns):\n",
    "#    acc = accuracy_score(results_df.iloc[:,i], test_labels)\n",
    "#    print(model, acc)\n",
    "\n"
   ]
  },
  {
   "cell_type": "code",
   "execution_count": 887,
   "metadata": {
    "ExecuteTime": {
     "end_time": "2018-05-29T01:27:44.984520Z",
     "start_time": "2018-05-29T01:27:42.678808Z"
    }
   },
   "outputs": [],
   "source": [
    "final_test = pd.read_csv('Datasets/test_clean_merged.csv')\n",
    "final_test2 = final_test[features_list[1:]]\n",
    "final_test_features = pd.get_dummies(final_test2)\n",
    "\n",
    "# first training the this ensemble model of most frequent class\n",
    "full_trained = most_frequent_class_train(features, labels, classifiers)\n",
    "results_full_trained = most_frequent_class_results(full_trained ,final_test_features)\n",
    "results_full_trained.rf_entropy.value_counts(normalize=True)\n",
    "\n",
    "results_df = pd.DataFrame({'id': final_test.id,\n",
    "                          'Fatal': results_full_trained.most_frequent})\n",
    "results_df[results_df.Fatal == 'F'].Fatal = 'Yes'\n",
    "results_df[results_df.Fatal == 'N'].Fatal = 'No'\n",
    "\n",
    "results_df.iloc[:,[1,0]].to_csv('PythonResults/python2.csv', index=False)"
   ]
  },
  {
   "cell_type": "code",
   "execution_count": null,
   "metadata": {},
   "outputs": [],
   "source": []
  },
  {
   "cell_type": "code",
   "execution_count": null,
   "metadata": {},
   "outputs": [],
   "source": []
  },
  {
   "cell_type": "markdown",
   "metadata": {
    "ExecuteTime": {
     "end_time": "2018-05-29T00:30:39.529607Z",
     "start_time": "2018-05-29T00:30:37.531226Z"
    }
   },
   "source": [
    "sclf.fit(X, y)\n",
    "\n",
    "sclf_prediction = sclf.predict(test_features)\n",
    "sclf_prediction = sclf_prediction.astype(str)\n",
    "sclf_prediction[sclf_prediction == '1'] = 'F'\n",
    "sclf_prediction[sclf_prediction == '0'] = 'N'\n",
    "\n",
    "accuracy_score(sclf_prediction, test_labels)"
   ]
  },
  {
   "cell_type": "code",
   "execution_count": null,
   "metadata": {
    "ExecuteTime": {
     "end_time": "2018-05-29T00:19:33.882423Z",
     "start_time": "2018-05-29T00:19:32.387190Z"
    }
   },
   "outputs": [],
   "source": [
    "final_test = pd.read_csv('Datasets/test_clean_merged.csv')\n",
    "final_test2 = final_test[features_list[1:]]\n",
    "final_test_features = pd.get_dummies(final_test2)\n",
    "\n",
    "labels_full = labels.copy()\n",
    "labels_full[labels_full=='N'] = 0\n",
    "labels_full[labels_full=='F'] = 1\n",
    "labels_full_int = labels_full.astype(int)\n",
    "\n",
    "sclf.fit(features,labels_full_int)\n",
    "\n",
    "final_test_predict = sclf.predict(final_test_features).astype(str)\n",
    "final_test_predict[final_test_predict == '1'] = 'Yes'\n",
    "final_test_predict[final_test_predict == '0'] = 'No'\n",
    "\n",
    "final_test_df = pd.DataFrame({'id': final_test.id,\n",
    "                              'Fatal': final_test_predict})\n",
    "\n",
    "final_test_output = final_test_df.iloc[:,[1,0]]\n",
    "final_test_output.to_csv('PythonResults/python1.csv', index=False)"
   ]
  },
  {
   "cell_type": "code",
   "execution_count": null,
   "metadata": {},
   "outputs": [],
   "source": []
  }
 ],
 "metadata": {
  "kernelspec": {
   "display_name": "Python 3",
   "language": "python",
   "name": "python3"
  },
  "language_info": {
   "codemirror_mode": {
    "name": "ipython",
    "version": 3
   },
   "file_extension": ".py",
   "mimetype": "text/x-python",
   "name": "python",
   "nbconvert_exporter": "python",
   "pygments_lexer": "ipython3",
   "version": "3.6.4"
  },
  "toc": {
   "base_numbering": 1,
   "nav_menu": {},
   "number_sections": true,
   "sideBar": true,
   "skip_h1_title": false,
   "title_cell": "Table of Contents",
   "title_sidebar": "Contents",
   "toc_cell": false,
   "toc_position": {},
   "toc_section_display": true,
   "toc_window_display": false
  },
  "varInspector": {
   "cols": {
    "lenName": 16,
    "lenType": 16,
    "lenVar": "400"
   },
   "kernels_config": {
    "python": {
     "delete_cmd_postfix": "",
     "delete_cmd_prefix": "del ",
     "library": "var_list.py",
     "varRefreshCmd": "print(var_dic_list())"
    },
    "r": {
     "delete_cmd_postfix": ") ",
     "delete_cmd_prefix": "rm(",
     "library": "var_list.r",
     "varRefreshCmd": "cat(var_dic_list()) "
    }
   },
   "oldHeight": 134,
   "position": {
    "height": "201px",
    "left": "872px",
    "right": "20px",
    "top": "5px",
    "width": "409px"
   },
   "types_to_exclude": [
    "module",
    "function",
    "builtin_function_or_method",
    "instance",
    "_Feature"
   ],
   "varInspector_section_display": "block",
   "window_display": false
  }
 },
 "nbformat": 4,
 "nbformat_minor": 2
}
