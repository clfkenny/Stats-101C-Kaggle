{
 "cells": [
  {
   "cell_type": "code",
   "execution_count": 1396,
   "metadata": {
    "ExecuteTime": {
     "end_time": "2018-06-04T05:51:02.309389Z",
     "start_time": "2018-06-04T05:51:01.969391Z"
    }
   },
   "outputs": [],
   "source": [
    "import pandas as pd\n",
    "import numpy as np\n",
    "import matplotlib.pyplot as plt\n",
    "%matplotlib inline"
   ]
  },
  {
   "cell_type": "code",
   "execution_count": 1430,
   "metadata": {
    "ExecuteTime": {
     "end_time": "2018-06-04T08:16:20.071422Z",
     "start_time": "2018-06-04T08:16:19.946180Z"
    }
   },
   "outputs": [],
   "source": [
    "#full_training = pd.read_csv('Datasets/crime_merged1.csv')\n",
    "full_training = pd.read_csv('Datasets/test_training_merged.csv')"
   ]
  },
  {
   "cell_type": "code",
   "execution_count": 1431,
   "metadata": {
    "ExecuteTime": {
     "end_time": "2018-06-04T08:16:21.159806Z",
     "start_time": "2018-06-04T08:16:21.117990Z"
    },
    "scrolled": true
   },
   "outputs": [
    {
     "data": {
      "text/html": [
       "<div>\n",
       "<style scoped>\n",
       "    .dataframe tbody tr th:only-of-type {\n",
       "        vertical-align: middle;\n",
       "    }\n",
       "\n",
       "    .dataframe tbody tr th {\n",
       "        vertical-align: top;\n",
       "    }\n",
       "\n",
       "    .dataframe thead th {\n",
       "        text-align: right;\n",
       "    }\n",
       "</style>\n",
       "<table border=\"1\" class=\"dataframe\">\n",
       "  <thead>\n",
       "    <tr style=\"text-align: right;\">\n",
       "      <th></th>\n",
       "      <th>state</th>\n",
       "      <th>id</th>\n",
       "      <th>Date</th>\n",
       "      <th>Fatal</th>\n",
       "      <th>SubjectArmed</th>\n",
       "      <th>SubjectRace</th>\n",
       "      <th>SubjectGender</th>\n",
       "      <th>SubjectAge</th>\n",
       "      <th>NatureOfStop</th>\n",
       "      <th>NumberOfShots</th>\n",
       "      <th>...</th>\n",
       "      <th>log_new_age</th>\n",
       "      <th>log_income</th>\n",
       "      <th>scaled_log_new_age</th>\n",
       "      <th>scaled_log_income</th>\n",
       "      <th>scaled_pop</th>\n",
       "      <th>lat</th>\n",
       "      <th>long</th>\n",
       "      <th>state_fatal_prop</th>\n",
       "      <th>city_fatal_prop</th>\n",
       "      <th>subject_minority</th>\n",
       "    </tr>\n",
       "  </thead>\n",
       "  <tbody>\n",
       "    <tr>\n",
       "      <th>0</th>\n",
       "      <td>newmexico</td>\n",
       "      <td>4966058</td>\n",
       "      <td>NaN</td>\n",
       "      <td>F</td>\n",
       "      <td>N</td>\n",
       "      <td>U</td>\n",
       "      <td>M</td>\n",
       "      <td>U</td>\n",
       "      <td>NaN</td>\n",
       "      <td>1</td>\n",
       "      <td>...</td>\n",
       "      <td>0.0</td>\n",
       "      <td>9.904737</td>\n",
       "      <td>-0.939642</td>\n",
       "      <td>-0.77168</td>\n",
       "      <td>-0.662392</td>\n",
       "      <td>106.6474</td>\n",
       "      <td>35.1056</td>\n",
       "      <td>1.238095</td>\n",
       "      <td>1.238095</td>\n",
       "      <td>No</td>\n",
       "    </tr>\n",
       "    <tr>\n",
       "      <th>1</th>\n",
       "      <td>newmexico</td>\n",
       "      <td>3154891</td>\n",
       "      <td>2011-10-05</td>\n",
       "      <td>F</td>\n",
       "      <td>Y</td>\n",
       "      <td>L</td>\n",
       "      <td>M</td>\n",
       "      <td>U</td>\n",
       "      <td>NaN</td>\n",
       "      <td>1</td>\n",
       "      <td>...</td>\n",
       "      <td>0.0</td>\n",
       "      <td>9.904737</td>\n",
       "      <td>-0.939642</td>\n",
       "      <td>-0.77168</td>\n",
       "      <td>-0.662392</td>\n",
       "      <td>106.6474</td>\n",
       "      <td>35.1056</td>\n",
       "      <td>1.238095</td>\n",
       "      <td>1.238095</td>\n",
       "      <td>Yes</td>\n",
       "    </tr>\n",
       "    <tr>\n",
       "      <th>2</th>\n",
       "      <td>newmexico</td>\n",
       "      <td>517461</td>\n",
       "      <td>NaN</td>\n",
       "      <td>F</td>\n",
       "      <td>Y</td>\n",
       "      <td>W</td>\n",
       "      <td>F</td>\n",
       "      <td>U</td>\n",
       "      <td>NaN</td>\n",
       "      <td>1</td>\n",
       "      <td>...</td>\n",
       "      <td>0.0</td>\n",
       "      <td>9.904737</td>\n",
       "      <td>-0.939642</td>\n",
       "      <td>-0.77168</td>\n",
       "      <td>-0.662392</td>\n",
       "      <td>106.6474</td>\n",
       "      <td>35.1056</td>\n",
       "      <td>1.238095</td>\n",
       "      <td>1.238095</td>\n",
       "      <td>No</td>\n",
       "    </tr>\n",
       "    <tr>\n",
       "      <th>3</th>\n",
       "      <td>newmexico</td>\n",
       "      <td>840208</td>\n",
       "      <td>2010-04-03</td>\n",
       "      <td>N</td>\n",
       "      <td>N</td>\n",
       "      <td>L</td>\n",
       "      <td>U</td>\n",
       "      <td>U</td>\n",
       "      <td>NaN</td>\n",
       "      <td>1</td>\n",
       "      <td>...</td>\n",
       "      <td>0.0</td>\n",
       "      <td>9.904737</td>\n",
       "      <td>-0.939642</td>\n",
       "      <td>-0.77168</td>\n",
       "      <td>-0.662392</td>\n",
       "      <td>106.6474</td>\n",
       "      <td>35.1056</td>\n",
       "      <td>1.238095</td>\n",
       "      <td>1.238095</td>\n",
       "      <td>Yes</td>\n",
       "    </tr>\n",
       "    <tr>\n",
       "      <th>4</th>\n",
       "      <td>newmexico</td>\n",
       "      <td>639066</td>\n",
       "      <td>NaN</td>\n",
       "      <td>F</td>\n",
       "      <td>N</td>\n",
       "      <td>L</td>\n",
       "      <td>M</td>\n",
       "      <td>U</td>\n",
       "      <td>NaN</td>\n",
       "      <td>1</td>\n",
       "      <td>...</td>\n",
       "      <td>0.0</td>\n",
       "      <td>9.904737</td>\n",
       "      <td>-0.939642</td>\n",
       "      <td>-0.77168</td>\n",
       "      <td>-0.662392</td>\n",
       "      <td>106.6474</td>\n",
       "      <td>35.1056</td>\n",
       "      <td>1.238095</td>\n",
       "      <td>1.238095</td>\n",
       "      <td>Yes</td>\n",
       "    </tr>\n",
       "  </tbody>\n",
       "</table>\n",
       "<p>5 rows × 50 columns</p>\n",
       "</div>"
      ],
      "text/plain": [
       "       state       id        Date Fatal SubjectArmed SubjectRace  \\\n",
       "0  newmexico  4966058         NaN     F            N           U   \n",
       "1  newmexico  3154891  2011-10-05     F            Y           L   \n",
       "2  newmexico   517461         NaN     F            Y           W   \n",
       "3  newmexico   840208  2010-04-03     N            N           L   \n",
       "4  newmexico   639066         NaN     F            N           L   \n",
       "\n",
       "  SubjectGender SubjectAge NatureOfStop NumberOfShots        ...         \\\n",
       "0             M          U          NaN             1        ...          \n",
       "1             M          U          NaN             1        ...          \n",
       "2             F          U          NaN             1        ...          \n",
       "3             U          U          NaN             1        ...          \n",
       "4             M          U          NaN             1        ...          \n",
       "\n",
       "   log_new_age log_income scaled_log_new_age scaled_log_income scaled_pop  \\\n",
       "0          0.0   9.904737          -0.939642          -0.77168  -0.662392   \n",
       "1          0.0   9.904737          -0.939642          -0.77168  -0.662392   \n",
       "2          0.0   9.904737          -0.939642          -0.77168  -0.662392   \n",
       "3          0.0   9.904737          -0.939642          -0.77168  -0.662392   \n",
       "4          0.0   9.904737          -0.939642          -0.77168  -0.662392   \n",
       "\n",
       "        lat     long  state_fatal_prop  city_fatal_prop  subject_minority  \n",
       "0  106.6474  35.1056          1.238095         1.238095                No  \n",
       "1  106.6474  35.1056          1.238095         1.238095               Yes  \n",
       "2  106.6474  35.1056          1.238095         1.238095                No  \n",
       "3  106.6474  35.1056          1.238095         1.238095               Yes  \n",
       "4  106.6474  35.1056          1.238095         1.238095               Yes  \n",
       "\n",
       "[5 rows x 50 columns]"
      ]
     },
     "execution_count": 1431,
     "metadata": {},
     "output_type": "execute_result"
    }
   ],
   "source": [
    "full_training = full_training.iloc[:,1:]\n",
    "full_training.income.describe()\n",
    "full_training.head()"
   ]
  },
  {
   "cell_type": "code",
   "execution_count": 1432,
   "metadata": {
    "ExecuteTime": {
     "end_time": "2018-06-04T08:16:24.339073Z",
     "start_time": "2018-06-04T08:16:24.317935Z"
    }
   },
   "outputs": [],
   "source": [
    "from sklearn.preprocessing import scale\n",
    "full_training['scaled_shots'] = scale(full_training.ShotsClean)\n",
    "full_training['scaled_pop'] = scale(full_training.estimate2016)\n",
    "full_training['scaled_income'] = scale(full_training.income)\n",
    "full_training['scaled_age'] = scale(full_training.NewAge)\n",
    "#full_training['imputed_age'] = full_training.NewAge.replace(0, np.mean(full_training.loc[full_training.NewAge!=0,'NewAge']))\n",
    "#full_training['imputed_age'] = full_training.NewAge.replace(0,15)"
   ]
  },
  {
   "cell_type": "code",
   "execution_count": 1456,
   "metadata": {
    "ExecuteTime": {
     "end_time": "2018-06-05T00:38:20.645824Z",
     "start_time": "2018-06-05T00:38:20.563733Z"
    }
   },
   "outputs": [
    {
     "name": "stdout",
     "output_type": "stream",
     "text": [
      "(3002, 27)\n",
      "(3002,)\n"
     ]
    }
   ],
   "source": [
    "training_noU = full_training.loc[full_training.Fatal != 'U',:]\n",
    "# features_list = ['Fatal','SubjectRace', 'SubjectGender', 'SubjectArmed',\n",
    "#                                'scaled_shots', 'AgeGroup', 'NumberOfOfficers',\n",
    "#                                    'Month', 'Day', 'scaled_pop', 'mainOfficerRace','income']\n",
    "\n",
    "\n",
    "\n",
    "features_list2 = ['Fatal','SubjectRace', 'SubjectGender', 'SubjectArmed',\n",
    "                'NewAge', 'NumberOfOfficers', 'ShotsClean', 'mainOfficerRace',\n",
    "                  'Year','Month','Day','estimate2016', 'income',\n",
    "                 'city_fatal_prop']\n",
    "\n",
    "training_noU['log_age'] = np.log(training_noU.NewAge)\n",
    "training_noU.loc[training_noU.log_age == -np.inf, 'log_age'] = 0\n",
    "training_noU['log_pop'] = np.log(training_noU.estimate2016)\n",
    "training_noU['log_income'] = np.log(training_noU.income)\n",
    "training_noU['log_shots'] = np.log(np.sqrt(training_noU.ShotsClean))\n",
    "\n",
    "\n",
    "X = training_noU.loc[:,features_list2].drop('Fatal', axis=1)\n",
    "X_dummy = pd.get_dummies(X)\n",
    "y = training_noU.Fatal\n",
    "print(X_dummy.shape)\n",
    "print(y.shape)"
   ]
  },
  {
   "cell_type": "markdown",
   "metadata": {},
   "source": [
    "## Splitting into testing and training"
   ]
  },
  {
   "cell_type": "code",
   "execution_count": 1457,
   "metadata": {
    "ExecuteTime": {
     "end_time": "2018-06-05T00:38:23.423204Z",
     "start_time": "2018-06-05T00:38:23.396963Z"
    }
   },
   "outputs": [
    {
     "name": "stdout",
     "output_type": "stream",
     "text": [
      "train_features dimensions: (2401, 27)\n",
      "test_features dimensions: (601, 27)\n",
      "train_labels dimensions: (2401,)\n",
      "test_labels dimensions: (601,)\n",
      "The goal is to beat the classification rate of: 0.6272485009993338\n",
      "N    0.629321\n",
      "F    0.370679\n",
      "Name: Fatal, dtype: float64\n",
      "N    0.618968\n",
      "F    0.381032\n",
      "Name: Fatal, dtype: float64\n"
     ]
    }
   ],
   "source": [
    "from sklearn.model_selection import train_test_split\n",
    "\n",
    "train_X, test_X, train_y, test_y = train_test_split(X_dummy, y, test_size=0.2, random_state=12345)\n",
    "\n",
    "print('train_features dimensions:', train_X.shape)\n",
    "print('test_features dimensions:', test_X.shape)\n",
    "print('train_labels dimensions:', train_y.shape)\n",
    "print('test_labels dimensions:', test_y.shape)\n",
    "print('The goal is to beat the classification rate of:', y.value_counts(normalize=True)[0])\n",
    "print(train_y.value_counts(normalize=True))\n",
    "print(test_y.value_counts(normalize=True))\n"
   ]
  },
  {
   "cell_type": "code",
   "execution_count": 1449,
   "metadata": {
    "ExecuteTime": {
     "end_time": "2018-06-04T08:36:05.227602Z",
     "start_time": "2018-06-04T08:36:05.212187Z"
    }
   },
   "outputs": [],
   "source": [
    "from sklearn.linear_model import LogisticRegression\n",
    "from sklearn.svm import SVC, LinearSVC\n",
    "from sklearn.neighbors import KNeighborsClassifier\n",
    "from sklearn.ensemble import RandomForestClassifier\n",
    "from sklearn.ensemble import ExtraTreesClassifier\n",
    "from sklearn.naive_bayes import GaussianNB\n",
    "from xgboost import XGBClassifier\n",
    "from sklearn.ensemble import AdaBoostClassifier\n",
    "\n",
    "\n",
    "from sklearn.model_selection import cross_val_score\n",
    "from sklearn.metrics import accuracy_score\n",
    "\n",
    "# xgboost causing warnings\n",
    "import warnings\n",
    "warnings.filterwarnings('ignore')"
   ]
  },
  {
   "cell_type": "code",
   "execution_count": 1458,
   "metadata": {
    "ExecuteTime": {
     "end_time": "2018-06-05T00:38:38.538395Z",
     "start_time": "2018-06-05T00:38:26.252704Z"
    }
   },
   "outputs": [],
   "source": [
    "models = []\n",
    "#models.append(('LogisticRegression', LogisticRegression()))\n",
    "#models.append((\"SVC\", SVC(C=100, gamma=0.01)))\n",
    "#models.append((\"KNeighborsClassifier\", KNeighborsClassifier(n_neighbors=5)))\n",
    "models.append((\"RandomForestClassifier_gini\", RandomForestClassifier(n_estimators=500,\n",
    "                                                                criterion='gini',\n",
    "                                                                max_depth=8,\n",
    "                                                                    max_features=5)))\n",
    "models.append((\"RandomForestClassifier_entropy\", RandomForestClassifier(n_estimators=500,\n",
    "                                                                criterion = 'entropy',\n",
    "                                                                max_depth=8,\n",
    "                                                                       max_features=5)))\n",
    "models.append(('XGBoost', XGBClassifier(learning_rate=0.1, n_estimators=100,\n",
    "                                       max_depth= 3)))\n",
    "#models.append(('Adaboost', AdaBoostClassifier(learning_rate=0.1, n_estimators=100)))\n",
    "\n",
    "results = []\n",
    "names = []\n",
    "for name,model in models:\n",
    "    result = cross_val_score(model, train_X, train_y, cv=5)\n",
    "    names.append(name)\n",
    "    results.append(result)\n",
    "\n",
    "mean_results = []\n",
    "sd_results = []\n",
    "for model in results:\n",
    "    mean_results.append(model.mean())\n",
    "    sd_results.append(model.std())\n",
    "\n",
    "results_df = pd.DataFrame({'Model': names,\n",
    "              'Mean Classification Rate': mean_results,\n",
    "              'Standard Deviation': sd_results\n",
    "             })\n",
    "results_df = results_df.iloc[:,[1,0,2]]"
   ]
  },
  {
   "cell_type": "code",
   "execution_count": 1459,
   "metadata": {
    "ExecuteTime": {
     "end_time": "2018-06-05T00:38:39.468345Z",
     "start_time": "2018-06-05T00:38:39.455025Z"
    },
    "collapsed": true
   },
   "outputs": [
    {
     "data": {
      "text/html": [
       "<div>\n",
       "<style scoped>\n",
       "    .dataframe tbody tr th:only-of-type {\n",
       "        vertical-align: middle;\n",
       "    }\n",
       "\n",
       "    .dataframe tbody tr th {\n",
       "        vertical-align: top;\n",
       "    }\n",
       "\n",
       "    .dataframe thead th {\n",
       "        text-align: right;\n",
       "    }\n",
       "</style>\n",
       "<table border=\"1\" class=\"dataframe\">\n",
       "  <thead>\n",
       "    <tr style=\"text-align: right;\">\n",
       "      <th></th>\n",
       "      <th>Model</th>\n",
       "      <th>Mean Classification Rate</th>\n",
       "      <th>Standard Deviation</th>\n",
       "    </tr>\n",
       "  </thead>\n",
       "  <tbody>\n",
       "    <tr>\n",
       "      <th>2</th>\n",
       "      <td>XGBoost</td>\n",
       "      <td>0.696391</td>\n",
       "      <td>0.019348</td>\n",
       "    </tr>\n",
       "    <tr>\n",
       "      <th>0</th>\n",
       "      <td>RandomForestClassifier_gini</td>\n",
       "      <td>0.695145</td>\n",
       "      <td>0.022764</td>\n",
       "    </tr>\n",
       "    <tr>\n",
       "      <th>1</th>\n",
       "      <td>RandomForestClassifier_entropy</td>\n",
       "      <td>0.695143</td>\n",
       "      <td>0.020593</td>\n",
       "    </tr>\n",
       "  </tbody>\n",
       "</table>\n",
       "</div>"
      ],
      "text/plain": [
       "                            Model  Mean Classification Rate  \\\n",
       "2                         XGBoost                  0.696391   \n",
       "0     RandomForestClassifier_gini                  0.695145   \n",
       "1  RandomForestClassifier_entropy                  0.695143   \n",
       "\n",
       "   Standard Deviation  \n",
       "2            0.019348  \n",
       "0            0.022764  \n",
       "1            0.020593  "
      ]
     },
     "execution_count": 1459,
     "metadata": {},
     "output_type": "execute_result"
    }
   ],
   "source": [
    "results_df.sort_values(by = 'Mean Classification Rate', ascending=False)"
   ]
  },
  {
   "cell_type": "markdown",
   "metadata": {},
   "source": [
    "## XGBoost"
   ]
  },
  {
   "cell_type": "code",
   "execution_count": 1465,
   "metadata": {
    "ExecuteTime": {
     "end_time": "2018-06-05T00:41:21.420824Z",
     "start_time": "2018-06-05T00:41:20.228635Z"
    }
   },
   "outputs": [
    {
     "name": "stdout",
     "output_type": "stream",
     "text": [
      "Classification Rate: 0.7171381031613977\n"
     ]
    },
    {
     "data": {
      "text/html": [
       "<div>\n",
       "<style scoped>\n",
       "    .dataframe tbody tr th:only-of-type {\n",
       "        vertical-align: middle;\n",
       "    }\n",
       "\n",
       "    .dataframe tbody tr th {\n",
       "        vertical-align: top;\n",
       "    }\n",
       "\n",
       "    .dataframe thead th {\n",
       "        text-align: right;\n",
       "    }\n",
       "</style>\n",
       "<table border=\"1\" class=\"dataframe\">\n",
       "  <thead>\n",
       "    <tr style=\"text-align: right;\">\n",
       "      <th>Fatal</th>\n",
       "      <th>F</th>\n",
       "      <th>N</th>\n",
       "    </tr>\n",
       "    <tr>\n",
       "      <th>row_0</th>\n",
       "      <th></th>\n",
       "      <th></th>\n",
       "    </tr>\n",
       "  </thead>\n",
       "  <tbody>\n",
       "    <tr>\n",
       "      <th>F</th>\n",
       "      <td>112</td>\n",
       "      <td>53</td>\n",
       "    </tr>\n",
       "    <tr>\n",
       "      <th>N</th>\n",
       "      <td>117</td>\n",
       "      <td>319</td>\n",
       "    </tr>\n",
       "  </tbody>\n",
       "</table>\n",
       "</div>"
      ],
      "text/plain": [
       "Fatal    F    N\n",
       "row_0          \n",
       "F      112   53\n",
       "N      117  319"
      ]
     },
     "execution_count": 1465,
     "metadata": {},
     "output_type": "execute_result"
    }
   ],
   "source": [
    "from sklearn.metrics import accuracy_score\n",
    "\n",
    "xgb = XGBClassifier(learning_rate=0.01, n_estimators=500, max_depth=3, subsample = 0.9)\n",
    "xgb.fit(train_X, train_y)\n",
    "xgb_pred_class = xgb.predict(test_X)\n",
    "\n",
    "print('Classification Rate:', accuracy_score(test_y, xgb_pred_class))\n",
    "pd.crosstab(xgb_pred_class, test_y, margins=False)"
   ]
  },
  {
   "cell_type": "markdown",
   "metadata": {},
   "source": [
    "## Random Forest"
   ]
  },
  {
   "cell_type": "code",
   "execution_count": 1461,
   "metadata": {
    "ExecuteTime": {
     "end_time": "2018-06-05T00:38:48.362943Z",
     "start_time": "2018-06-05T00:38:45.586787Z"
    },
    "collapsed": true
   },
   "outputs": [
    {
     "name": "stdout",
     "output_type": "stream",
     "text": [
      "OOB score: 0.6922115785089547\n",
      "Classification Rate: 0.7154742096505824\n",
      "Fatal    F    N\n",
      "row_0          \n",
      "F      107   49\n",
      "N      122  323\n"
     ]
    },
    {
     "data": {
      "text/html": [
       "<div>\n",
       "<style scoped>\n",
       "    .dataframe tbody tr th:only-of-type {\n",
       "        vertical-align: middle;\n",
       "    }\n",
       "\n",
       "    .dataframe tbody tr th {\n",
       "        vertical-align: top;\n",
       "    }\n",
       "\n",
       "    .dataframe thead th {\n",
       "        text-align: right;\n",
       "    }\n",
       "</style>\n",
       "<table border=\"1\" class=\"dataframe\">\n",
       "  <thead>\n",
       "    <tr style=\"text-align: right;\">\n",
       "      <th></th>\n",
       "      <th>Feature</th>\n",
       "      <th>Importances</th>\n",
       "    </tr>\n",
       "  </thead>\n",
       "  <tbody>\n",
       "    <tr>\n",
       "      <th>8</th>\n",
       "      <td>city_fatal_prop</td>\n",
       "      <td>0.123813</td>\n",
       "    </tr>\n",
       "    <tr>\n",
       "      <th>0</th>\n",
       "      <td>NewAge</td>\n",
       "      <td>0.120507</td>\n",
       "    </tr>\n",
       "    <tr>\n",
       "      <th>6</th>\n",
       "      <td>estimate2016</td>\n",
       "      <td>0.096626</td>\n",
       "    </tr>\n",
       "    <tr>\n",
       "      <th>1</th>\n",
       "      <td>NumberOfOfficers</td>\n",
       "      <td>0.075156</td>\n",
       "    </tr>\n",
       "    <tr>\n",
       "      <th>7</th>\n",
       "      <td>income</td>\n",
       "      <td>0.075111</td>\n",
       "    </tr>\n",
       "    <tr>\n",
       "      <th>3</th>\n",
       "      <td>Year</td>\n",
       "      <td>0.065061</td>\n",
       "    </tr>\n",
       "    <tr>\n",
       "      <th>4</th>\n",
       "      <td>Month</td>\n",
       "      <td>0.063196</td>\n",
       "    </tr>\n",
       "    <tr>\n",
       "      <th>2</th>\n",
       "      <td>ShotsClean</td>\n",
       "      <td>0.054928</td>\n",
       "    </tr>\n",
       "    <tr>\n",
       "      <th>5</th>\n",
       "      <td>Day</td>\n",
       "      <td>0.050337</td>\n",
       "    </tr>\n",
       "    <tr>\n",
       "      <th>17</th>\n",
       "      <td>SubjectGender_U</td>\n",
       "      <td>0.033895</td>\n",
       "    </tr>\n",
       "    <tr>\n",
       "      <th>16</th>\n",
       "      <td>SubjectGender_M</td>\n",
       "      <td>0.030631</td>\n",
       "    </tr>\n",
       "    <tr>\n",
       "      <th>19</th>\n",
       "      <td>SubjectArmed_U</td>\n",
       "      <td>0.025783</td>\n",
       "    </tr>\n",
       "    <tr>\n",
       "      <th>14</th>\n",
       "      <td>SubjectRace_W</td>\n",
       "      <td>0.024883</td>\n",
       "    </tr>\n",
       "    <tr>\n",
       "      <th>20</th>\n",
       "      <td>SubjectArmed_Y</td>\n",
       "      <td>0.019333</td>\n",
       "    </tr>\n",
       "    <tr>\n",
       "      <th>10</th>\n",
       "      <td>SubjectRace_B</td>\n",
       "      <td>0.018887</td>\n",
       "    </tr>\n",
       "    <tr>\n",
       "      <th>26</th>\n",
       "      <td>mainOfficerRace_w</td>\n",
       "      <td>0.017913</td>\n",
       "    </tr>\n",
       "    <tr>\n",
       "      <th>18</th>\n",
       "      <td>SubjectArmed_N</td>\n",
       "      <td>0.017455</td>\n",
       "    </tr>\n",
       "    <tr>\n",
       "      <th>22</th>\n",
       "      <td>mainOfficerRace_b</td>\n",
       "      <td>0.015284</td>\n",
       "    </tr>\n",
       "    <tr>\n",
       "      <th>25</th>\n",
       "      <td>mainOfficerRace_u</td>\n",
       "      <td>0.013678</td>\n",
       "    </tr>\n",
       "    <tr>\n",
       "      <th>13</th>\n",
       "      <td>SubjectRace_U</td>\n",
       "      <td>0.013085</td>\n",
       "    </tr>\n",
       "    <tr>\n",
       "      <th>11</th>\n",
       "      <td>SubjectRace_L</td>\n",
       "      <td>0.012622</td>\n",
       "    </tr>\n",
       "    <tr>\n",
       "      <th>24</th>\n",
       "      <td>mainOfficerRace_l</td>\n",
       "      <td>0.009754</td>\n",
       "    </tr>\n",
       "    <tr>\n",
       "      <th>23</th>\n",
       "      <td>mainOfficerRace_h</td>\n",
       "      <td>0.008027</td>\n",
       "    </tr>\n",
       "    <tr>\n",
       "      <th>15</th>\n",
       "      <td>SubjectGender_F</td>\n",
       "      <td>0.005667</td>\n",
       "    </tr>\n",
       "    <tr>\n",
       "      <th>21</th>\n",
       "      <td>mainOfficerRace_a</td>\n",
       "      <td>0.004218</td>\n",
       "    </tr>\n",
       "    <tr>\n",
       "      <th>9</th>\n",
       "      <td>SubjectRace_A</td>\n",
       "      <td>0.003062</td>\n",
       "    </tr>\n",
       "    <tr>\n",
       "      <th>12</th>\n",
       "      <td>SubjectRace_O</td>\n",
       "      <td>0.001090</td>\n",
       "    </tr>\n",
       "  </tbody>\n",
       "</table>\n",
       "</div>"
      ],
      "text/plain": [
       "              Feature  Importances\n",
       "8     city_fatal_prop     0.123813\n",
       "0              NewAge     0.120507\n",
       "6        estimate2016     0.096626\n",
       "1    NumberOfOfficers     0.075156\n",
       "7              income     0.075111\n",
       "3                Year     0.065061\n",
       "4               Month     0.063196\n",
       "2          ShotsClean     0.054928\n",
       "5                 Day     0.050337\n",
       "17    SubjectGender_U     0.033895\n",
       "16    SubjectGender_M     0.030631\n",
       "19     SubjectArmed_U     0.025783\n",
       "14      SubjectRace_W     0.024883\n",
       "20     SubjectArmed_Y     0.019333\n",
       "10      SubjectRace_B     0.018887\n",
       "26  mainOfficerRace_w     0.017913\n",
       "18     SubjectArmed_N     0.017455\n",
       "22  mainOfficerRace_b     0.015284\n",
       "25  mainOfficerRace_u     0.013678\n",
       "13      SubjectRace_U     0.013085\n",
       "11      SubjectRace_L     0.012622\n",
       "24  mainOfficerRace_l     0.009754\n",
       "23  mainOfficerRace_h     0.008027\n",
       "15    SubjectGender_F     0.005667\n",
       "21  mainOfficerRace_a     0.004218\n",
       "9       SubjectRace_A     0.003062\n",
       "12      SubjectRace_O     0.001090"
      ]
     },
     "execution_count": 1461,
     "metadata": {},
     "output_type": "execute_result"
    }
   ],
   "source": [
    "rF = RandomForestClassifier(n_estimators=1000, criterion = 'gini', max_depth=9, max_features = 4, oob_score=True)\n",
    "rF.fit(train_X, train_y)\n",
    "print('OOB score:', rF.oob_score_)\n",
    "rF_pred_class = rF.predict(test_X)\n",
    "\n",
    "print('Classification Rate:', accuracy_score(rF_pred_class, test_y))\n",
    "print(pd.crosstab(rF_pred_class,test_y))\n",
    "pd.DataFrame({'Feature': train_X.columns, 'Importances':rF.feature_importances_}).sort_values(by='Importances', ascending=False)"
   ]
  },
  {
   "cell_type": "code",
   "execution_count": null,
   "metadata": {},
   "outputs": [],
   "source": []
  },
  {
   "cell_type": "code",
   "execution_count": null,
   "metadata": {},
   "outputs": [],
   "source": []
  }
 ],
 "metadata": {
  "kernelspec": {
   "display_name": "Python 3",
   "language": "python",
   "name": "python3"
  },
  "language_info": {
   "codemirror_mode": {
    "name": "ipython",
    "version": 3
   },
   "file_extension": ".py",
   "mimetype": "text/x-python",
   "name": "python",
   "nbconvert_exporter": "python",
   "pygments_lexer": "ipython3",
   "version": "3.6.4"
  },
  "toc": {
   "base_numbering": 1,
   "nav_menu": {},
   "number_sections": true,
   "sideBar": true,
   "skip_h1_title": false,
   "title_cell": "Table of Contents",
   "title_sidebar": "Contents",
   "toc_cell": false,
   "toc_position": {},
   "toc_section_display": true,
   "toc_window_display": false
  },
  "varInspector": {
   "cols": {
    "lenName": 16,
    "lenType": 16,
    "lenVar": "400"
   },
   "kernels_config": {
    "python": {
     "delete_cmd_postfix": "",
     "delete_cmd_prefix": "del ",
     "library": "var_list.py",
     "varRefreshCmd": "print(var_dic_list())"
    },
    "r": {
     "delete_cmd_postfix": ") ",
     "delete_cmd_prefix": "rm(",
     "library": "var_list.r",
     "varRefreshCmd": "cat(var_dic_list()) "
    }
   },
   "types_to_exclude": [
    "module",
    "function",
    "builtin_function_or_method",
    "instance",
    "_Feature"
   ],
   "window_display": false
  }
 },
 "nbformat": 4,
 "nbformat_minor": 2
}
