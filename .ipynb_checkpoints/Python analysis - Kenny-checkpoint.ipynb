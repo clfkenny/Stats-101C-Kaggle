{
 "cells": [
  {
   "cell_type": "code",
   "execution_count": null,
   "metadata": {
    "ExecuteTime": {
     "end_time": "2018-06-05T22:01:00.951244Z",
     "start_time": "2018-06-05T22:01:00.882000Z"
    }
   },
   "outputs": [],
   "source": [
    "import pandas as pd\n",
    "import numpy as np\n",
    "import matplotlib.pyplot as plt\n",
    "%matplotlib inline"
   ]
  },
  {
   "cell_type": "code",
   "execution_count": null,
   "metadata": {
    "ExecuteTime": {
     "end_time": "2018-06-05T22:01:02.085223Z",
     "start_time": "2018-06-05T22:01:02.033678Z"
    }
   },
   "outputs": [],
   "source": [
    "#full_training = pd.read_csv('Datasets/crime_merged1.csv')\n",
    "#full_training = pd.read_csv('Datasets/test_training_merged.csv')\n",
    "#full_training = pd.read_csv('Datasets/clean_merged4.csv')\n",
    "#full_training = pd.read_csv('Datasets/clean_merged5_gunpermit.csv')\n",
    "full_training = pd.read_csv('Datasets/merged_trainTest_U_gunpermit.csv')"
   ]
  },
  {
   "cell_type": "code",
   "execution_count": null,
   "metadata": {
    "ExecuteTime": {
     "end_time": "2018-06-05T22:01:03.054499Z",
     "start_time": "2018-06-05T22:01:03.019830Z"
    },
    "scrolled": true
   },
   "outputs": [],
   "source": [
    "full_training = full_training.iloc[:,1:]\n",
    "full_training.income.describe()\n",
    "print(full_training.shape)\n",
    "full_training.head()"
   ]
  },
  {
   "cell_type": "code",
   "execution_count": null,
   "metadata": {
    "ExecuteTime": {
     "end_time": "2018-06-05T22:01:04.196390Z",
     "start_time": "2018-06-05T22:01:04.183501Z"
    }
   },
   "outputs": [],
   "source": [
    "from sklearn.preprocessing import scale\n",
    "full_training['scaled_shots'] = scale(full_training.ShotsClean)\n",
    "full_training['scaled_pop'] = scale(full_training.estimate2016)\n",
    "full_training['scaled_income'] = scale(full_training.income)\n",
    "full_training['scaled_age'] = scale(full_training.NewAge)\n",
    "#full_training['imputed_age'] = full_training.NewAge.replace(0, np.mean(full_training.loc[full_training.NewAge!=0,'NewAge']))\n",
    "#full_training['imputed_age'] = full_training.NewAge.replace(0,15)"
   ]
  },
  {
   "cell_type": "code",
   "execution_count": 2086,
   "metadata": {
    "ExecuteTime": {
     "end_time": "2018-06-05T22:18:08.947483Z",
     "start_time": "2018-06-05T22:18:08.907366Z"
    }
   },
   "outputs": [
    {
     "name": "stdout",
     "output_type": "stream",
     "text": [
      "(3122, 34)\n",
      "(3122,)\n"
     ]
    }
   ],
   "source": [
    "training_noU = full_training.loc[full_training.Fatal != 'U',:]\n",
    "# features_list = ['Fatal','SubjectRace', 'SubjectGender', 'SubjectArmed',\n",
    "#                                'scaled_shots', 'AgeGroup', 'NumberOfOfficers',\n",
    "#                                    'Month', 'Day', 'scaled_pop', 'mainOfficerRace','income']\n",
    "\n",
    "\n",
    "\n",
    "features_list2 = ['Fatal','SubjectRace', 'SubjectGender', 'SubjectArmed',\n",
    "                'NewAge', 'NumberOfOfficers', 'ShotsClean', 'mainOfficerRace',\n",
    "                  'Year','Month','Day','estimate2016', 'income', \n",
    "                  'X2010', 'X2011', 'X2012','X2013','X2014', 'X2015','X2016',\n",
    "                 'city_fatal_prop']\n",
    "\n",
    "\n",
    "\n",
    "training_noU_feature = training_noU.loc[:, features_list2].dropna(axis=0)\n",
    "\n",
    "X = training_noU_feature.drop('Fatal', axis=1)\n",
    "\n",
    "X_dummy = pd.get_dummies(X)\n",
    "y = training_noU_feature.Fatal\n",
    "print(X_dummy.shape)\n",
    "print(y.shape)\n"
   ]
  },
  {
   "cell_type": "markdown",
   "metadata": {},
   "source": [
    "## Splitting into testing and training"
   ]
  },
  {
   "cell_type": "code",
   "execution_count": 2087,
   "metadata": {
    "ExecuteTime": {
     "end_time": "2018-06-05T22:18:20.296482Z",
     "start_time": "2018-06-05T22:18:20.275533Z"
    }
   },
   "outputs": [
    {
     "name": "stdout",
     "output_type": "stream",
     "text": [
      "train_features dimensions: (2497, 34)\n",
      "test_features dimensions: (625, 34)\n",
      "train_labels dimensions: (2497,)\n",
      "test_labels dimensions: (625,)\n",
      "The goal is to beat the classification rate of: 0.6402946828955798\n",
      "N    0.633961\n",
      "F    0.366039\n",
      "Name: Fatal, dtype: float64\n",
      "N    0.6656\n",
      "F    0.3344\n",
      "Name: Fatal, dtype: float64\n"
     ]
    }
   ],
   "source": [
    "from sklearn.model_selection import train_test_split\n",
    "\n",
    "train_X, test_X, train_y, test_y = train_test_split(X_dummy, y, test_size=0.2, random_state=1234)\n",
    "\n",
    "print('train_features dimensions:', train_X.shape)\n",
    "print('test_features dimensions:', test_X.shape)\n",
    "print('train_labels dimensions:', train_y.shape)\n",
    "print('test_labels dimensions:', test_y.shape)\n",
    "print('The goal is to beat the classification rate of:', y.value_counts(normalize=True)[0])\n",
    "print(train_y.value_counts(normalize=True))\n",
    "print(test_y.value_counts(normalize=True))\n"
   ]
  },
  {
   "cell_type": "code",
   "execution_count": 2088,
   "metadata": {
    "ExecuteTime": {
     "end_time": "2018-06-05T22:18:21.712736Z",
     "start_time": "2018-06-05T22:18:21.699362Z"
    }
   },
   "outputs": [],
   "source": [
    "from sklearn.linear_model import LogisticRegression\n",
    "from sklearn.svm import SVC, LinearSVC\n",
    "from sklearn.neighbors import KNeighborsClassifier\n",
    "from sklearn.ensemble import RandomForestClassifier\n",
    "from sklearn.ensemble import ExtraTreesClassifier\n",
    "from xgboost import XGBClassifier\n",
    "from sklearn.ensemble import AdaBoostClassifier\n",
    "\n",
    "from sklearn.model_selection import cross_val_score\n",
    "from sklearn.metrics import accuracy_score\n",
    "\n",
    "from sklearn.model_selection import GridSearchCV\n",
    "\n",
    "\n",
    "# xgboost causing warnings\n",
    "import warnings\n",
    "warnings.filterwarnings('ignore')"
   ]
  },
  {
   "cell_type": "code",
   "execution_count": null,
   "metadata": {
    "ExecuteTime": {
     "end_time": "2018-06-05T22:12:17.456006Z",
     "start_time": "2018-06-05T22:12:09.437647Z"
    }
   },
   "outputs": [],
   "source": [
    "models = []\n",
    "#models.append(('LogisticRegression', LogisticRegression()))\n",
    "#models.append((\"SVC\", SVC(C=100, gamma=0.01)))\n",
    "#models.append((\"KNeighborsClassifier\", KNeighborsClassifier(n_neighbors=10)))\n",
    "models.append((\"RandomForestClassifier_gini\", RandomForestClassifier(n_estimators=500,\n",
    "                                                                criterion='gini',\n",
    "                                                                max_depth=8,\n",
    "                                                                    max_features=5)))\n",
    "#models.append((\"RandomForestClassifier_entropy\", RandomForestClassifier(n_estimators=500,\n",
    "#                                                                criterion = 'entropy',\n",
    "#                                                                max_depth=8,\n",
    "#                                                                       max_features=5)))\n",
    "models.append(('XGBoost', XGBClassifier(learning_rate=0.01, n_estimators=300,\n",
    "                                       max_depth= 3)))\n",
    "#models.append(('Adaboost', AdaBoostClassifier(learning_rate=0.1, n_estimators=100)))\n",
    "#models.append(('MLP', MLPClassifier(solver='lbfgs', alpha=1e-5, \n",
    "                                     #hidden_layer_sizes=(3, 2), random_state=1)))\n",
    "\n",
    "results = []\n",
    "names = []\n",
    "for name,model in models:\n",
    "    result = cross_val_score(model, train_X, train_y, cv=5)\n",
    "    names.append(name)\n",
    "    results.append(result)\n",
    "\n",
    "mean_results = []\n",
    "sd_results = []\n",
    "for model in results:\n",
    "    mean_results.append(model.mean())\n",
    "    sd_results.append(model.std())\n",
    "\n",
    "results_df = pd.DataFrame({'Model': names,\n",
    "              'Mean Classification Rate': mean_results,\n",
    "              'Standard Deviation': sd_results\n",
    "             })\n",
    "results_df = results_df.iloc[:,[1,0,2]]"
   ]
  },
  {
   "cell_type": "code",
   "execution_count": null,
   "metadata": {
    "ExecuteTime": {
     "end_time": "2018-06-05T22:12:18.487128Z",
     "start_time": "2018-06-05T22:12:18.475262Z"
    }
   },
   "outputs": [],
   "source": [
    "results_df.sort_values(by = 'Mean Classification Rate', ascending=False)"
   ]
  },
  {
   "cell_type": "markdown",
   "metadata": {},
   "source": [
    "## XGBoost"
   ]
  },
  {
   "cell_type": "code",
   "execution_count": null,
   "metadata": {
    "ExecuteTime": {
     "end_time": "2018-06-05T22:12:26.285987Z",
     "start_time": "2018-06-05T22:12:24.514569Z"
    }
   },
   "outputs": [],
   "source": [
    "xgb = XGBClassifier(random_state=12345)\n",
    "#xgb.fit(train_features,train_labels, verbose=True)\n",
    "\n",
    "param_grid_xgb = {\n",
    "    'learning_rate': [0.01,0.1],\n",
    "    'n_estimators': list(range(1,102,5)),\n",
    "    'max_depth': list(range(2,10))\n",
    "}\n",
    "CV_xgb = GridSearchCV(n_jobs=-1, estimator=xgb, param_grid = param_grid_xgb, cv=5,\n",
    "                     verbose=2, return_train_score=True)\n",
    "CV_xgb.fit(train_X,train_y)"
   ]
  },
  {
   "cell_type": "code",
   "execution_count": null,
   "metadata": {
    "ExecuteTime": {
     "end_time": "2018-06-05T22:07:28.992521Z",
     "start_time": "2018-06-05T22:07:24.834Z"
    }
   },
   "outputs": [],
   "source": [
    "mean_test = pd.DataFrame({'Accuracy': CV_xgb.cv_results_['mean_test_score']})\n",
    "params = pd.DataFrame(CV_xgb.cv_results_['params'])\n",
    "accuracy_result = params.join(mean_test).sort_values('Accuracy', ascending=False)\n",
    "accuracy_result.head()"
   ]
  },
  {
   "cell_type": "code",
   "execution_count": 2132,
   "metadata": {
    "ExecuteTime": {
     "end_time": "2018-06-05T22:36:40.460894Z",
     "start_time": "2018-06-05T22:36:38.182486Z"
    },
    "scrolled": true
   },
   "outputs": [
    {
     "name": "stdout",
     "output_type": "stream",
     "text": [
      "Classification Rate: 0.7392\n"
     ]
    },
    {
     "data": {
      "text/html": [
       "<div>\n",
       "<style scoped>\n",
       "    .dataframe tbody tr th:only-of-type {\n",
       "        vertical-align: middle;\n",
       "    }\n",
       "\n",
       "    .dataframe tbody tr th {\n",
       "        vertical-align: top;\n",
       "    }\n",
       "\n",
       "    .dataframe thead th {\n",
       "        text-align: right;\n",
       "    }\n",
       "</style>\n",
       "<table border=\"1\" class=\"dataframe\">\n",
       "  <thead>\n",
       "    <tr style=\"text-align: right;\">\n",
       "      <th>Fatal</th>\n",
       "      <th>F</th>\n",
       "      <th>N</th>\n",
       "    </tr>\n",
       "    <tr>\n",
       "      <th>row_0</th>\n",
       "      <th></th>\n",
       "      <th></th>\n",
       "    </tr>\n",
       "  </thead>\n",
       "  <tbody>\n",
       "    <tr>\n",
       "      <th>F</th>\n",
       "      <td>109</td>\n",
       "      <td>63</td>\n",
       "    </tr>\n",
       "    <tr>\n",
       "      <th>N</th>\n",
       "      <td>100</td>\n",
       "      <td>353</td>\n",
       "    </tr>\n",
       "  </tbody>\n",
       "</table>\n",
       "</div>"
      ],
      "text/plain": [
       "Fatal    F    N\n",
       "row_0          \n",
       "F      109   63\n",
       "N      100  353"
      ]
     },
     "execution_count": 2132,
     "metadata": {},
     "output_type": "execute_result"
    }
   ],
   "source": [
    "from sklearn.metrics import accuracy_score\n",
    "\n",
    "xgb = XGBClassifier(learning_rate=0.01, n_estimators=500, max_depth=4, subsample = 0.8)\n",
    "xgb.fit(train_X, train_y)\n",
    "xgb_pred_class = xgb.predict(test_X)\n",
    "\n",
    "print('Classification Rate:', accuracy_score(test_y, xgb_pred_class))\n",
    "pd.crosstab(xgb_pred_class, test_y, margins=False)"
   ]
  },
  {
   "cell_type": "markdown",
   "metadata": {},
   "source": [
    "## Random Forest"
   ]
  },
  {
   "cell_type": "code",
   "execution_count": 2108,
   "metadata": {
    "ExecuteTime": {
     "end_time": "2018-06-05T22:26:51.010965Z",
     "start_time": "2018-06-05T22:26:46.446855Z"
    },
    "collapsed": true
   },
   "outputs": [
    {
     "name": "stdout",
     "output_type": "stream",
     "text": [
      "OOB score: 0.7112535042050461\n",
      "Classification Rate: 0.7216\n",
      "Fatal    F    N\n",
      "row_0          \n",
      "F      105   70\n",
      "N      104  346\n"
     ]
    },
    {
     "data": {
      "text/html": [
       "<div>\n",
       "<style scoped>\n",
       "    .dataframe tbody tr th:only-of-type {\n",
       "        vertical-align: middle;\n",
       "    }\n",
       "\n",
       "    .dataframe tbody tr th {\n",
       "        vertical-align: top;\n",
       "    }\n",
       "\n",
       "    .dataframe thead th {\n",
       "        text-align: right;\n",
       "    }\n",
       "</style>\n",
       "<table border=\"1\" class=\"dataframe\">\n",
       "  <thead>\n",
       "    <tr style=\"text-align: right;\">\n",
       "      <th></th>\n",
       "      <th>Feature</th>\n",
       "      <th>Importances</th>\n",
       "    </tr>\n",
       "  </thead>\n",
       "  <tbody>\n",
       "    <tr>\n",
       "      <th>0</th>\n",
       "      <td>NewAge</td>\n",
       "      <td>0.114683</td>\n",
       "    </tr>\n",
       "    <tr>\n",
       "      <th>15</th>\n",
       "      <td>city_fatal_prop</td>\n",
       "      <td>0.104640</td>\n",
       "    </tr>\n",
       "    <tr>\n",
       "      <th>1</th>\n",
       "      <td>NumberOfOfficers</td>\n",
       "      <td>0.082158</td>\n",
       "    </tr>\n",
       "    <tr>\n",
       "      <th>3</th>\n",
       "      <td>Year</td>\n",
       "      <td>0.071367</td>\n",
       "    </tr>\n",
       "    <tr>\n",
       "      <th>6</th>\n",
       "      <td>estimate2016</td>\n",
       "      <td>0.068727</td>\n",
       "    </tr>\n",
       "    <tr>\n",
       "      <th>4</th>\n",
       "      <td>Month</td>\n",
       "      <td>0.063558</td>\n",
       "    </tr>\n",
       "    <tr>\n",
       "      <th>5</th>\n",
       "      <td>Day</td>\n",
       "      <td>0.057468</td>\n",
       "    </tr>\n",
       "    <tr>\n",
       "      <th>7</th>\n",
       "      <td>income</td>\n",
       "      <td>0.055362</td>\n",
       "    </tr>\n",
       "    <tr>\n",
       "      <th>2</th>\n",
       "      <td>ShotsClean</td>\n",
       "      <td>0.051932</td>\n",
       "    </tr>\n",
       "    <tr>\n",
       "      <th>24</th>\n",
       "      <td>SubjectGender_U</td>\n",
       "      <td>0.031522</td>\n",
       "    </tr>\n",
       "    <tr>\n",
       "      <th>26</th>\n",
       "      <td>SubjectArmed_U</td>\n",
       "      <td>0.025282</td>\n",
       "    </tr>\n",
       "    <tr>\n",
       "      <th>23</th>\n",
       "      <td>SubjectGender_M</td>\n",
       "      <td>0.023107</td>\n",
       "    </tr>\n",
       "    <tr>\n",
       "      <th>21</th>\n",
       "      <td>SubjectRace_W</td>\n",
       "      <td>0.021597</td>\n",
       "    </tr>\n",
       "    <tr>\n",
       "      <th>27</th>\n",
       "      <td>SubjectArmed_Y</td>\n",
       "      <td>0.018184</td>\n",
       "    </tr>\n",
       "    <tr>\n",
       "      <th>25</th>\n",
       "      <td>SubjectArmed_N</td>\n",
       "      <td>0.017824</td>\n",
       "    </tr>\n",
       "    <tr>\n",
       "      <th>17</th>\n",
       "      <td>SubjectRace_B</td>\n",
       "      <td>0.017271</td>\n",
       "    </tr>\n",
       "    <tr>\n",
       "      <th>33</th>\n",
       "      <td>mainOfficerRace_w</td>\n",
       "      <td>0.016170</td>\n",
       "    </tr>\n",
       "    <tr>\n",
       "      <th>14</th>\n",
       "      <td>X2016</td>\n",
       "      <td>0.013897</td>\n",
       "    </tr>\n",
       "    <tr>\n",
       "      <th>29</th>\n",
       "      <td>mainOfficerRace_b</td>\n",
       "      <td>0.013358</td>\n",
       "    </tr>\n",
       "    <tr>\n",
       "      <th>10</th>\n",
       "      <td>X2012</td>\n",
       "      <td>0.013235</td>\n",
       "    </tr>\n",
       "    <tr>\n",
       "      <th>9</th>\n",
       "      <td>X2011</td>\n",
       "      <td>0.013148</td>\n",
       "    </tr>\n",
       "    <tr>\n",
       "      <th>8</th>\n",
       "      <td>X2010</td>\n",
       "      <td>0.012315</td>\n",
       "    </tr>\n",
       "    <tr>\n",
       "      <th>18</th>\n",
       "      <td>SubjectRace_L</td>\n",
       "      <td>0.012084</td>\n",
       "    </tr>\n",
       "    <tr>\n",
       "      <th>13</th>\n",
       "      <td>X2015</td>\n",
       "      <td>0.011655</td>\n",
       "    </tr>\n",
       "    <tr>\n",
       "      <th>20</th>\n",
       "      <td>SubjectRace_U</td>\n",
       "      <td>0.011381</td>\n",
       "    </tr>\n",
       "    <tr>\n",
       "      <th>32</th>\n",
       "      <td>mainOfficerRace_u</td>\n",
       "      <td>0.010806</td>\n",
       "    </tr>\n",
       "    <tr>\n",
       "      <th>12</th>\n",
       "      <td>X2014</td>\n",
       "      <td>0.010449</td>\n",
       "    </tr>\n",
       "    <tr>\n",
       "      <th>11</th>\n",
       "      <td>X2013</td>\n",
       "      <td>0.010230</td>\n",
       "    </tr>\n",
       "    <tr>\n",
       "      <th>31</th>\n",
       "      <td>mainOfficerRace_l</td>\n",
       "      <td>0.007130</td>\n",
       "    </tr>\n",
       "    <tr>\n",
       "      <th>30</th>\n",
       "      <td>mainOfficerRace_h</td>\n",
       "      <td>0.006926</td>\n",
       "    </tr>\n",
       "    <tr>\n",
       "      <th>22</th>\n",
       "      <td>SubjectGender_F</td>\n",
       "      <td>0.005226</td>\n",
       "    </tr>\n",
       "    <tr>\n",
       "      <th>28</th>\n",
       "      <td>mainOfficerRace_a</td>\n",
       "      <td>0.004260</td>\n",
       "    </tr>\n",
       "    <tr>\n",
       "      <th>16</th>\n",
       "      <td>SubjectRace_A</td>\n",
       "      <td>0.002150</td>\n",
       "    </tr>\n",
       "    <tr>\n",
       "      <th>19</th>\n",
       "      <td>SubjectRace_O</td>\n",
       "      <td>0.000898</td>\n",
       "    </tr>\n",
       "  </tbody>\n",
       "</table>\n",
       "</div>"
      ],
      "text/plain": [
       "              Feature  Importances\n",
       "0              NewAge     0.114683\n",
       "15    city_fatal_prop     0.104640\n",
       "1    NumberOfOfficers     0.082158\n",
       "3                Year     0.071367\n",
       "6        estimate2016     0.068727\n",
       "4               Month     0.063558\n",
       "5                 Day     0.057468\n",
       "7              income     0.055362\n",
       "2          ShotsClean     0.051932\n",
       "24    SubjectGender_U     0.031522\n",
       "26     SubjectArmed_U     0.025282\n",
       "23    SubjectGender_M     0.023107\n",
       "21      SubjectRace_W     0.021597\n",
       "27     SubjectArmed_Y     0.018184\n",
       "25     SubjectArmed_N     0.017824\n",
       "17      SubjectRace_B     0.017271\n",
       "33  mainOfficerRace_w     0.016170\n",
       "14              X2016     0.013897\n",
       "29  mainOfficerRace_b     0.013358\n",
       "10              X2012     0.013235\n",
       "9               X2011     0.013148\n",
       "8               X2010     0.012315\n",
       "18      SubjectRace_L     0.012084\n",
       "13              X2015     0.011655\n",
       "20      SubjectRace_U     0.011381\n",
       "32  mainOfficerRace_u     0.010806\n",
       "12              X2014     0.010449\n",
       "11              X2013     0.010230\n",
       "31  mainOfficerRace_l     0.007130\n",
       "30  mainOfficerRace_h     0.006926\n",
       "22    SubjectGender_F     0.005226\n",
       "28  mainOfficerRace_a     0.004260\n",
       "16      SubjectRace_A     0.002150\n",
       "19      SubjectRace_O     0.000898"
      ]
     },
     "execution_count": 2108,
     "metadata": {},
     "output_type": "execute_result"
    }
   ],
   "source": [
    "rF = RandomForestClassifier(n_estimators=1000, criterion = 'gini', max_depth=10,\n",
    "                            max_features = 8, oob_score=True)\n",
    "rF.fit(train_X, train_y)\n",
    "print('OOB score:', rF.oob_score_)\n",
    "rF_pred_class = rF.predict(test_X)\n",
    "\n",
    "print('Classification Rate:', accuracy_score(rF_pred_class, test_y))\n",
    "print(pd.crosstab(rF_pred_class,test_y))\n",
    "pd.DataFrame({'Feature': train_X.columns, 'Importances':rF.feature_importances_}).sort_values(by='Importances', ascending=False)"
   ]
  },
  {
   "cell_type": "markdown",
   "metadata": {},
   "source": [
    "## Stacked Ensemble with mlextend"
   ]
  },
  {
   "cell_type": "code",
   "execution_count": 2089,
   "metadata": {
    "ExecuteTime": {
     "end_time": "2018-06-05T22:18:28.004689Z",
     "start_time": "2018-06-05T22:18:27.989935Z"
    }
   },
   "outputs": [],
   "source": [
    "from sklearn import model_selection\n",
    "from mlxtend.classifier import StackingClassifier\n",
    "\n",
    "clf1 =  XGBClassifier(learning_rate=0.01, n_estimators=461, max_depth=4, subsample = 0.8)\n",
    "clf2 =  XGBClassifier(learning_rate=0.1, n_estimators=81, max_depth=3, subsample = 0.8)\n",
    "#clf3 = RandomForestClassifier(n_estimators=800, criterion = 'gini', max_depth=10, max_features = 4)\n",
    "#clf4 = RandomForestClassifier(n_estimators=800, criterion = 'entropy', max_depth=10, max_features = 4)\n",
    "\n",
    "#clf3 = KNeighborsClassifier(n_neighbors=10)\n",
    "#clf3= AdaBoostClassifier(learning_rate=0.1, n_estimators=500)\n",
    "\n",
    "lr = LogisticRegression()\n",
    "sclf = StackingClassifier(classifiers=[clf1, clf2, clf3], \n",
    "                          meta_classifier=lr)\n",
    "\n",
    "train_y_numeric = train_y.replace({'F':1, 'N':0})"
   ]
  },
  {
   "cell_type": "code",
   "execution_count": 2090,
   "metadata": {
    "ExecuteTime": {
     "end_time": "2018-06-05T22:18:59.374853Z",
     "start_time": "2018-06-05T22:18:29.292456Z"
    }
   },
   "outputs": [
    {
     "name": "stdout",
     "output_type": "stream",
     "text": [
      "5-fold cross validation:\n",
      "\n",
      "Accuracy: 0.7076556680 (+/- 0.01295) [XGB]\n",
      "Accuracy: 0.7052516503 (+/- 0.01121) [XGB2]\n",
      "Accuracy: 0.7072532632 (+/- 0.01889) [StackingClassifier]\n"
     ]
    }
   ],
   "source": [
    "print('5-fold cross validation:\\n')\n",
    "\n",
    "for clf, label in zip([clf1, clf2, sclf], \n",
    "                      ['XGB', \n",
    "                       'XGB2',\n",
    "                       'StackingClassifier']):\n",
    "\n",
    "    scores = model_selection.cross_val_score(clf, train_X, train_y_numeric, \n",
    "                                              cv=5, scoring='accuracy')\n",
    "    print(\"Accuracy: %0.10f (+/- %0.5f) [%s]\" \n",
    "          % (scores.mean(), scores.std(), label))"
   ]
  },
  {
   "cell_type": "code",
   "execution_count": 2091,
   "metadata": {
    "ExecuteTime": {
     "end_time": "2018-06-05T22:19:19.657866Z",
     "start_time": "2018-06-05T22:19:12.465738Z"
    }
   },
   "outputs": [
    {
     "name": "stdout",
     "output_type": "stream",
     "text": [
      "XGB Accuracy:  0.72\n",
      "XGB2 Accuracy:  0.7456\n",
      "Stacked Classifier Accuracy:  0.7152\n"
     ]
    }
   ],
   "source": [
    "clf1.fit(train_X, train_y)\n",
    "clf2.fit(train_X, train_y)\n",
    "#clf3.fit(train_X, train_y)\n",
    "#clf4.fit(train_X, train_y)\n",
    "sclf.fit(train_X, train_y_numeric)\n",
    "\n",
    "clf1_pred = clf1.predict(test_X)\n",
    "clf2_pred = clf2.predict(test_X)\n",
    "#clf3_pred = clf3.predict(test_X)\n",
    "#clf4_pred = clf4.predict(test_X)\n",
    "sclf_pred = pd.Series(sclf.predict(test_X)).replace({1:'F', 0:'N'}).as_matrix()\n",
    "\n",
    "clf1_acc = accuracy_score(clf1_pred, test_y)\n",
    "clf2_acc = accuracy_score(clf2_pred, test_y)\n",
    "#clf3_acc = accuracy_score(clf3_pred, test_y)\n",
    "#clf4_acc = accuracy_score(clf4_pred, test_y)\n",
    "sclf_acc = accuracy_score(sclf_pred, test_y)\n",
    "\n",
    "print('XGB Accuracy: ', clf1_acc)\n",
    "print('XGB2 Accuracy: ', clf2_acc)\n",
    "#print('RF Gini Accuracy: ', clf3_acc)\n",
    "#print('RF entropy: ', clf4_acc)\n",
    "print('Stacked Classifier Accuracy: ', sclf_acc)"
   ]
  },
  {
   "cell_type": "code",
   "execution_count": 2092,
   "metadata": {
    "ExecuteTime": {
     "end_time": "2018-06-05T22:19:20.763154Z",
     "start_time": "2018-06-05T22:19:20.726536Z"
    }
   },
   "outputs": [
    {
     "name": "stdout",
     "output_type": "stream",
     "text": [
      "Fatal    F    N\n",
      "row_0          \n",
      "F      106   72\n",
      "N      103  344\n",
      "Fatal    F    N\n",
      "row_0          \n",
      "F      110   60\n",
      "N       99  356\n",
      "Fatal    F    N\n",
      "row_0          \n",
      "F       99   68\n",
      "N      110  348\n"
     ]
    }
   ],
   "source": [
    "print(pd.crosstab(clf1_pred, test_y))\n",
    "print(pd.crosstab(clf2_pred, test_y))\n",
    "#print(pd.crosstab(clf3_pred, test_y))\n",
    "#print(pd.crosstab(clf4_pred, test_y))\n",
    "print(pd.crosstab(sclf_pred, test_y))"
   ]
  },
  {
   "cell_type": "code",
   "execution_count": 2128,
   "metadata": {
    "ExecuteTime": {
     "end_time": "2018-06-05T22:35:41.731454Z",
     "start_time": "2018-06-05T22:35:41.723586Z"
    }
   },
   "outputs": [],
   "source": [
    "def intersect_fatal_rows(model1, model2, test_X):\n",
    "    pred1 = model1.predict(test_X)\n",
    "    pred2 = model2.predict(test_X)\n",
    "    \n",
    "    fatal1 = np.where(pred1=='F')\n",
    "    fatal2 = np.where(pred2=='F')\n",
    "       \n",
    "    \n",
    "    return(np.intersect1d(fatal1,fatal2))\n",
    "    "
   ]
  },
  {
   "cell_type": "code",
   "execution_count": 2133,
   "metadata": {
    "ExecuteTime": {
     "end_time": "2018-06-05T22:36:49.126776Z",
     "start_time": "2018-06-05T22:36:48.934271Z"
    }
   },
   "outputs": [
    {
     "data": {
      "text/plain": [
       "0.7408"
      ]
     },
     "execution_count": 2133,
     "metadata": {},
     "output_type": "execute_result"
    }
   ],
   "source": [
    "dummy_test = pd.Series(np.repeat('N', test_y.shape[0]))\n",
    "dummy_test[intersect_fatal_rows(xgb, rF, test_X)] = 'F'\n",
    "accuracy_score(dummy_test, test_y)"
   ]
  },
  {
   "cell_type": "code",
   "execution_count": null,
   "metadata": {},
   "outputs": [],
   "source": []
  }
 ],
 "metadata": {
  "kernelspec": {
   "display_name": "Python 3",
   "language": "python",
   "name": "python3"
  },
  "language_info": {
   "codemirror_mode": {
    "name": "ipython",
    "version": 3
   },
   "file_extension": ".py",
   "mimetype": "text/x-python",
   "name": "python",
   "nbconvert_exporter": "python",
   "pygments_lexer": "ipython3",
   "version": "3.6.4"
  },
  "toc": {
   "base_numbering": 1,
   "nav_menu": {},
   "number_sections": true,
   "sideBar": true,
   "skip_h1_title": false,
   "title_cell": "Table of Contents",
   "title_sidebar": "Contents",
   "toc_cell": false,
   "toc_position": {},
   "toc_section_display": true,
   "toc_window_display": false
  },
  "varInspector": {
   "cols": {
    "lenName": 16,
    "lenType": 16,
    "lenVar": "400"
   },
   "kernels_config": {
    "python": {
     "delete_cmd_postfix": "",
     "delete_cmd_prefix": "del ",
     "library": "var_list.py",
     "varRefreshCmd": "print(var_dic_list())"
    },
    "r": {
     "delete_cmd_postfix": ") ",
     "delete_cmd_prefix": "rm(",
     "library": "var_list.r",
     "varRefreshCmd": "cat(var_dic_list()) "
    }
   },
   "types_to_exclude": [
    "module",
    "function",
    "builtin_function_or_method",
    "instance",
    "_Feature"
   ],
   "window_display": false
  }
 },
 "nbformat": 4,
 "nbformat_minor": 2
}
