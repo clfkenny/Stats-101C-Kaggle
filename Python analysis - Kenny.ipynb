{
 "cells": [
  {
   "cell_type": "code",
   "execution_count": null,
   "metadata": {
    "ExecuteTime": {
     "end_time": "2018-06-07T07:51:08.568844Z",
     "start_time": "2018-06-07T07:51:07.861208Z"
    }
   },
   "outputs": [],
   "source": [
    "import pandas as pd\n",
    "import numpy as np\n",
    "import matplotlib.pyplot as plt\n",
    "%matplotlib inline"
   ]
  },
  {
   "cell_type": "code",
   "execution_count": null,
   "metadata": {
    "ExecuteTime": {
     "end_time": "2018-06-07T07:51:08.689793Z",
     "start_time": "2018-06-07T07:51:08.584443Z"
    }
   },
   "outputs": [],
   "source": [
    "#full_training = pd.read_csv('Datasets/crime_merged1.csv')\n",
    "#full_training = pd.read_csv('Datasets/test_training_merged.csv')\n",
    "#full_training = pd.read_csv('Datasets/clean_merged4.csv')\n",
    "#full_training = pd.read_csv('Datasets/clean_merged5_gunpermit.csv')\n",
    "#full_training = pd.read_csv('Datasets/merged_trainTest_U_gunpermit.csv')\n",
    "#full_training = pd.read_csv('Datasets/kenny_1.csv')\n",
    "full_training = pd.read_csv('Datasets/kenny_training_w_testing.csv')"
   ]
  },
  {
   "cell_type": "code",
   "execution_count": null,
   "metadata": {
    "ExecuteTime": {
     "end_time": "2018-06-07T07:51:09.764365Z",
     "start_time": "2018-06-07T07:51:09.726769Z"
    },
    "scrolled": true
   },
   "outputs": [],
   "source": [
    "full_training = full_training.iloc[:,1:]\n",
    "full_training.income.describe()\n",
    "print(full_training.shape)\n",
    "full_training.head()"
   ]
  },
  {
   "cell_type": "code",
   "execution_count": null,
   "metadata": {
    "ExecuteTime": {
     "end_time": "2018-06-06T04:38:26.749708Z",
     "start_time": "2018-06-06T04:38:26.737853Z"
    }
   },
   "outputs": [],
   "source": [
    "from sklearn.preprocessing import scale\n",
    "full_training['scaled_shots'] = scale(full_training.ShotsClean)\n",
    "full_training['scaled_pop'] = scale(full_training.estimate2016)\n",
    "full_training['scaled_income'] = scale(full_training.income)\n",
    "full_training['scaled_age'] = scale(full_training.NewAge)\n",
    "#full_training['imputed_age'] = full_training.NewAge.replace(0, np.mean(full_training.loc[full_training.NewAge!=0,'NewAge']))\n",
    "#full_training['imputed_age'] = full_training.NewAge.replace(0,15)"
   ]
  },
  {
   "cell_type": "code",
   "execution_count": 23,
   "metadata": {
    "ExecuteTime": {
     "end_time": "2018-06-07T07:55:14.605412Z",
     "start_time": "2018-06-07T07:55:14.572154Z"
    }
   },
   "outputs": [
    {
     "name": "stdout",
     "output_type": "stream",
     "text": [
      "(3421, 33)\n",
      "(3421,)\n"
     ]
    }
   ],
   "source": [
    "#training_noU = full_training\n",
    "training_noU = full_training.loc[full_training.Fatal != 'U',:]\n",
    "# features_list = ['Fatal','SubjectRace', 'SubjectGender', 'SubjectArmed',\n",
    "#                                'scaled_shots', 'AgeGroup', 'NumberOfOfficers',\n",
    "#                                    'Month', 'Day', 'scaled_pop', 'mainOfficerRace','income']\n",
    "\n",
    "\n",
    "\n",
    "features_list2 = ['Fatal','SubjectRace', 'SubjectGender', 'SubjectArmed',\n",
    "                'NewAge', 'NumberOfOfficers', 'ShotsClean', 'mainOfficerRace',\n",
    "                  'Year','Month','Day','estimate2016', 'income', \n",
    "                  'X2010', 'X2011', 'X2012','X2013','X2014', 'X2015','X2016']\n",
    "\n",
    "\n",
    "\n",
    "training_noU_feature = training_noU.loc[:, features_list2].dropna(axis=0)\n",
    "\n",
    "X = training_noU_feature.drop('Fatal', axis=1)\n",
    "\n",
    "X_dummy = pd.get_dummies(X)\n",
    "y = training_noU_feature.Fatal\n",
    "print(X_dummy.shape)\n",
    "print(y.shape)\n"
   ]
  },
  {
   "cell_type": "markdown",
   "metadata": {},
   "source": [
    "## Splitting into testing and training"
   ]
  },
  {
   "cell_type": "code",
   "execution_count": 24,
   "metadata": {
    "ExecuteTime": {
     "end_time": "2018-06-07T07:55:16.199244Z",
     "start_time": "2018-06-07T07:55:16.178992Z"
    }
   },
   "outputs": [
    {
     "name": "stdout",
     "output_type": "stream",
     "text": [
      "train_features dimensions: (2736, 33)\n",
      "test_features dimensions: (685, 33)\n",
      "train_labels dimensions: (2736,)\n",
      "test_labels dimensions: (685,)\n",
      "The goal is to beat the classification rate of: 0.6539023677287343\n",
      "N    0.658991\n",
      "F    0.341009\n",
      "Name: Fatal, dtype: float64\n",
      "N    0.633577\n",
      "F    0.366423\n",
      "Name: Fatal, dtype: float64\n"
     ]
    }
   ],
   "source": [
    "from sklearn.model_selection import train_test_split\n",
    "\n",
    "train_X, test_X, train_y, test_y = train_test_split(X_dummy, y, test_size=0.2, random_state=1234567)\n",
    "\n",
    "print('train_features dimensions:', train_X.shape)\n",
    "print('test_features dimensions:', test_X.shape)\n",
    "print('train_labels dimensions:', train_y.shape)\n",
    "print('test_labels dimensions:', test_y.shape)\n",
    "print('The goal is to beat the classification rate of:', y.value_counts(normalize=True)[0])\n",
    "print(train_y.value_counts(normalize=True))\n",
    "print(test_y.value_counts(normalize=True))\n"
   ]
  },
  {
   "cell_type": "code",
   "execution_count": null,
   "metadata": {
    "ExecuteTime": {
     "end_time": "2018-06-07T07:51:28.918395Z",
     "start_time": "2018-06-07T07:51:28.716217Z"
    }
   },
   "outputs": [],
   "source": [
    "from sklearn.linear_model import LogisticRegression\n",
    "from sklearn.svm import SVC, LinearSVC\n",
    "from sklearn.neighbors import KNeighborsClassifier\n",
    "from sklearn.ensemble import RandomForestClassifier\n",
    "from sklearn.ensemble import ExtraTreesClassifier\n",
    "from xgboost import XGBClassifier\n",
    "from sklearn.ensemble import AdaBoostClassifier\n",
    "\n",
    "from sklearn.model_selection import cross_val_score\n",
    "from sklearn.metrics import accuracy_score\n",
    "\n",
    "from sklearn.model_selection import GridSearchCV\n",
    "\n",
    "\n",
    "# xgboost causing warnings\n",
    "import warnings\n",
    "warnings.filterwarnings('ignore')"
   ]
  },
  {
   "cell_type": "code",
   "execution_count": null,
   "metadata": {
    "ExecuteTime": {
     "end_time": "2018-06-07T07:51:57.733945Z",
     "start_time": "2018-06-07T07:51:41.478541Z"
    }
   },
   "outputs": [],
   "source": [
    "models = []\n",
    "#models.append(('LogisticRegression', LogisticRegression()))\n",
    "#models.append((\"SVC\", SVC(C=100, gamma=0.01)))\n",
    "#models.append((\"KNeighborsClassifier\", KNeighborsClassifier(n_neighbors=10)))\n",
    "models.append((\"RandomForestClassifier_gini\", RandomForestClassifier(n_estimators=500,\n",
    "                                                                criterion='gini',\n",
    "                                                                max_depth=8,\n",
    "                                                                    max_features=5)))\n",
    "#models.append((\"RandomForestClassifier_entropy\", RandomForestClassifier(n_estimators=500,\n",
    "#                                                                criterion = 'entropy',\n",
    "#                                                                max_depth=8,\n",
    "#                                                                       max_features=5)))\n",
    "models.append(('XGBoost', XGBClassifier(learning_rate=0.01, n_estimators=300,\n",
    "                                       max_depth= 3)))\n",
    "#models.append(('Adaboost', AdaBoostClassifier(learning_rate=0.1, n_estimators=100)))\n",
    "#models.append(('MLP', MLPClassifier(solver='lbfgs', alpha=1e-5, \n",
    "                                     #hidden_layer_sizes=(3, 2), random_state=1)))\n",
    "\n",
    "results = []\n",
    "names = []\n",
    "for name,model in models:\n",
    "    result = cross_val_score(model, train_X, train_y, cv=5)\n",
    "    names.append(name)\n",
    "    results.append(result)\n",
    "\n",
    "mean_results = []\n",
    "sd_results = []\n",
    "for model in results:\n",
    "    mean_results.append(model.mean())\n",
    "    sd_results.append(model.std())\n",
    "\n",
    "results_df = pd.DataFrame({'Model': names,\n",
    "              'Mean Classification Rate': mean_results,\n",
    "              'Standard Deviation': sd_results\n",
    "             })\n",
    "results_df = results_df.iloc[:,[1,0,2]]"
   ]
  },
  {
   "cell_type": "code",
   "execution_count": null,
   "metadata": {
    "ExecuteTime": {
     "end_time": "2018-06-07T07:51:58.165434Z",
     "start_time": "2018-06-07T07:51:58.151303Z"
    }
   },
   "outputs": [],
   "source": [
    "results_df.sort_values(by = 'Mean Classification Rate', ascending=False)"
   ]
  },
  {
   "cell_type": "markdown",
   "metadata": {},
   "source": [
    "## XGBoost"
   ]
  },
  {
   "cell_type": "code",
   "execution_count": null,
   "metadata": {
    "ExecuteTime": {
     "end_time": "2018-06-06T04:39:35.763831Z",
     "start_time": "2018-06-06T04:39:32.396053Z"
    }
   },
   "outputs": [],
   "source": [
    "xgb = XGBClassifier(random_state=12345)\n",
    "#xgb.fit(train_features,train_labels, verbose=True)\n",
    "\n",
    "param_grid_xgb = {\n",
    "    'learning_rate': [0.01,0.1],\n",
    "    'n_estimators': list(range(1,102,5)),\n",
    "    'max_depth': list(range(2,10))\n",
    "}\n",
    "CV_xgb = GridSearchCV(n_jobs=-1, estimator=xgb, param_grid = param_grid_xgb, cv=5,\n",
    "                     verbose=2, return_train_score=True)\n",
    "CV_xgb.fit(train_X,train_y)"
   ]
  },
  {
   "cell_type": "code",
   "execution_count": null,
   "metadata": {
    "ExecuteTime": {
     "end_time": "2018-06-06T04:39:38.547497Z",
     "start_time": "2018-06-06T04:39:38.523744Z"
    }
   },
   "outputs": [],
   "source": [
    "mean_test = pd.DataFrame({'Accuracy': CV_xgb.cv_results_['mean_test_score']})\n",
    "params = pd.DataFrame(CV_xgb.cv_results_['params'])\n",
    "accuracy_result = params.join(mean_test).sort_values('Accuracy', ascending=False)\n",
    "accuracy_result.head()"
   ]
  },
  {
   "cell_type": "code",
   "execution_count": 25,
   "metadata": {
    "ExecuteTime": {
     "end_time": "2018-06-07T07:55:26.499793Z",
     "start_time": "2018-06-07T07:55:24.246981Z"
    },
    "scrolled": true
   },
   "outputs": [
    {
     "name": "stdout",
     "output_type": "stream",
     "text": [
      "Classification Rate: 0.708029197080292\n"
     ]
    },
    {
     "data": {
      "text/html": [
       "<div>\n",
       "<style scoped>\n",
       "    .dataframe tbody tr th:only-of-type {\n",
       "        vertical-align: middle;\n",
       "    }\n",
       "\n",
       "    .dataframe tbody tr th {\n",
       "        vertical-align: top;\n",
       "    }\n",
       "\n",
       "    .dataframe thead th {\n",
       "        text-align: right;\n",
       "    }\n",
       "</style>\n",
       "<table border=\"1\" class=\"dataframe\">\n",
       "  <thead>\n",
       "    <tr style=\"text-align: right;\">\n",
       "      <th>Fatal</th>\n",
       "      <th>F</th>\n",
       "      <th>N</th>\n",
       "    </tr>\n",
       "    <tr>\n",
       "      <th>row_0</th>\n",
       "      <th></th>\n",
       "      <th></th>\n",
       "    </tr>\n",
       "  </thead>\n",
       "  <tbody>\n",
       "    <tr>\n",
       "      <th>F</th>\n",
       "      <td>89</td>\n",
       "      <td>38</td>\n",
       "    </tr>\n",
       "    <tr>\n",
       "      <th>N</th>\n",
       "      <td>162</td>\n",
       "      <td>396</td>\n",
       "    </tr>\n",
       "  </tbody>\n",
       "</table>\n",
       "</div>"
      ],
      "text/plain": [
       "Fatal    F    N\n",
       "row_0          \n",
       "F       89   38\n",
       "N      162  396"
      ]
     },
     "execution_count": 25,
     "metadata": {},
     "output_type": "execute_result"
    }
   ],
   "source": [
    "from sklearn.metrics import accuracy_score\n",
    "\n",
    "xgb = XGBClassifier(learning_rate=0.01, n_estimators=500, max_depth=4, subsample = 0.8)\n",
    "xgb.fit(train_X, train_y)\n",
    "xgb_pred_class = xgb.predict(test_X)\n",
    "\n",
    "print('Classification Rate:', accuracy_score(test_y, xgb_pred_class))\n",
    "pd.crosstab(xgb_pred_class, test_y, margins=False)"
   ]
  },
  {
   "cell_type": "markdown",
   "metadata": {},
   "source": [
    "## Random Forest"
   ]
  },
  {
   "cell_type": "code",
   "execution_count": 26,
   "metadata": {
    "ExecuteTime": {
     "end_time": "2018-06-07T07:55:35.465603Z",
     "start_time": "2018-06-07T07:55:31.790257Z"
    },
    "scrolled": true
   },
   "outputs": [
    {
     "name": "stdout",
     "output_type": "stream",
     "text": [
      "OOB score: 0.7134502923976608\n",
      "Classification Rate: 0.7094890510948905\n",
      "Fatal    F    N\n",
      "row_0          \n",
      "F       87   35\n",
      "N      164  399\n"
     ]
    }
   ],
   "source": [
    "rF = RandomForestClassifier(n_estimators=1000, criterion = 'gini', max_depth=10,\n",
    "                            max_features = 8, oob_score=True)\n",
    "rF.fit(train_X, train_y)\n",
    "print('OOB score:', rF.oob_score_)\n",
    "rF_pred_class = rF.predict(test_X)\n",
    "\n",
    "print('Classification Rate:', accuracy_score(rF_pred_class, test_y))\n",
    "print(pd.crosstab(rF_pred_class,test_y))\n",
    "#pd.DataFrame({'Feature': train_X.columns, 'Importances':rF.feature_importances_}).sort_values(by='Importances', ascending=False)"
   ]
  },
  {
   "cell_type": "markdown",
   "metadata": {},
   "source": [
    "## Stacked Ensemble with mlextend"
   ]
  },
  {
   "cell_type": "code",
   "execution_count": 27,
   "metadata": {
    "ExecuteTime": {
     "end_time": "2018-06-07T07:55:41.324442Z",
     "start_time": "2018-06-07T07:55:41.309607Z"
    }
   },
   "outputs": [],
   "source": [
    "from sklearn import model_selection\n",
    "from mlxtend.classifier import StackingClassifier\n",
    "\n",
    "clf1 =  XGBClassifier(learning_rate=0.01, n_estimators=461, max_depth=4, subsample = 0.8)\n",
    "clf2 =  XGBClassifier(learning_rate=0.1, n_estimators=81, max_depth=3, subsample = 0.8)\n",
    "clf3 = RandomForestClassifier(n_estimators=800, criterion = 'gini', max_depth=10, max_features = 4)\n",
    "#clf4 = RandomForestClassifier(n_estimators=800, criterion = 'entropy', max_depth=10, max_features = 4)\n",
    "\n",
    "#clf3 = KNeighborsClassifier(n_neighbors=10)\n",
    "#clf3= AdaBoostClassifier(learning_rate=0.1, n_estimators=500)\n",
    "\n",
    "lr = LogisticRegression()\n",
    "sclf = StackingClassifier(classifiers=[clf1, clf2, clf3], \n",
    "                          meta_classifier=lr)\n",
    "\n",
    "train_y_numeric = train_y.replace({'F':1, 'N':0})"
   ]
  },
  {
   "cell_type": "code",
   "execution_count": 28,
   "metadata": {
    "ExecuteTime": {
     "end_time": "2018-06-07T07:56:29.764158Z",
     "start_time": "2018-06-07T07:55:42.092552Z"
    }
   },
   "outputs": [
    {
     "name": "stdout",
     "output_type": "stream",
     "text": [
      "5-fold cross validation:\n",
      "\n",
      "Accuracy: 0.7196705970 (+/- 0.01682) [XGB]\n",
      "Accuracy: 0.7200355605 (+/- 0.01884) [XGB2]\n",
      "Accuracy: 0.7134541857 (+/- 0.01889) [RF gini]\n",
      "Accuracy: 0.7134608700 (+/- 0.01850) [StackingClassifier]\n"
     ]
    }
   ],
   "source": [
    "print('5-fold cross validation:\\n')\n",
    "\n",
    "for clf, label in zip([clf1, clf2, clf3, sclf], \n",
    "                      ['XGB', \n",
    "                       'XGB2',\n",
    "                       'RF gini',\n",
    "                       'StackingClassifier']):\n",
    "\n",
    "    scores = model_selection.cross_val_score(clf, train_X, train_y_numeric, \n",
    "                                              cv=5, scoring='accuracy')\n",
    "    print(\"Accuracy: %0.10f (+/- %0.5f) [%s]\" \n",
    "          % (scores.mean(), scores.std(), label))"
   ]
  },
  {
   "cell_type": "code",
   "execution_count": 29,
   "metadata": {
    "ExecuteTime": {
     "end_time": "2018-06-07T07:56:44.289011Z",
     "start_time": "2018-06-07T07:56:37.271279Z"
    }
   },
   "outputs": [
    {
     "name": "stdout",
     "output_type": "stream",
     "text": [
      "XGB Accuracy:  0.708029197080292\n",
      "XGB2 Accuracy:  0.7138686131386861\n",
      "Stacked Classifier Accuracy:  0.710948905109489\n"
     ]
    }
   ],
   "source": [
    "clf1.fit(train_X, train_y)\n",
    "clf2.fit(train_X, train_y)\n",
    "#clf3.fit(train_X, train_y)\n",
    "#clf4.fit(train_X, train_y)\n",
    "sclf.fit(train_X, train_y_numeric)\n",
    "\n",
    "clf1_pred = clf1.predict(test_X)\n",
    "clf2_pred = clf2.predict(test_X)\n",
    "#clf3_pred = clf3.predict(test_X)\n",
    "#clf4_pred = clf4.predict(test_X)\n",
    "sclf_pred = pd.Series(sclf.predict(test_X)).replace({1:'F', 0:'N'}).as_matrix()\n",
    "\n",
    "clf1_acc = accuracy_score(clf1_pred, test_y)\n",
    "clf2_acc = accuracy_score(clf2_pred, test_y)\n",
    "#clf3_acc = accuracy_score(clf3_pred, test_y)\n",
    "#clf4_acc = accuracy_score(clf4_pred, test_y)\n",
    "sclf_acc = accuracy_score(sclf_pred, test_y)\n",
    "\n",
    "print('XGB Accuracy: ', clf1_acc)\n",
    "print('XGB2 Accuracy: ', clf2_acc)\n",
    "#print('RF Gini Accuracy: ', clf3_acc)\n",
    "#print('RF entropy: ', clf4_acc)\n",
    "print('Stacked Classifier Accuracy: ', sclf_acc)"
   ]
  },
  {
   "cell_type": "code",
   "execution_count": 30,
   "metadata": {
    "ExecuteTime": {
     "end_time": "2018-06-07T07:56:44.948102Z",
     "start_time": "2018-06-07T07:56:44.867708Z"
    }
   },
   "outputs": [
    {
     "name": "stdout",
     "output_type": "stream",
     "text": [
      "Fatal    F    N\n",
      "row_0          \n",
      "F       89   38\n",
      "N      162  396\n",
      "Fatal    F    N\n",
      "row_0          \n",
      "F       98   43\n",
      "N      153  391\n",
      "Fatal    F    N\n",
      "row_0          \n",
      "F       84   31\n",
      "N      167  403\n"
     ]
    }
   ],
   "source": [
    "print(pd.crosstab(clf1_pred, test_y))\n",
    "print(pd.crosstab(clf2_pred, test_y))\n",
    "#print(pd.crosstab(clf3_pred, test_y))\n",
    "#print(pd.crosstab(clf4_pred, test_y))\n",
    "print(pd.crosstab(sclf_pred, test_y))"
   ]
  },
  {
   "cell_type": "code",
   "execution_count": 31,
   "metadata": {
    "ExecuteTime": {
     "end_time": "2018-06-07T07:56:51.709661Z",
     "start_time": "2018-06-07T07:56:51.702525Z"
    }
   },
   "outputs": [],
   "source": [
    "def intersect_fatal_rows(model1, model2, test_X):\n",
    "    pred1 = model1.predict(test_X)\n",
    "    pred2 = model2.predict(test_X)\n",
    "    \n",
    "    fatal1 = np.where(pred1=='F')\n",
    "    fatal2 = np.where(pred2=='F')\n",
    "    \n",
    "    return(np.intersect1d(fatal1,fatal2))"
   ]
  },
  {
   "cell_type": "code",
   "execution_count": 32,
   "metadata": {
    "ExecuteTime": {
     "end_time": "2018-06-07T07:56:56.512284Z",
     "start_time": "2018-06-07T07:56:52.405703Z"
    }
   },
   "outputs": [
    {
     "name": "stdout",
     "output_type": "stream",
     "text": [
      "intersected accuracy: 0.708029197080292\n",
      "not intersected accuracy1 : 0.7094890510948905\n",
      "not intersected accuracy2 : 0.708029197080292\n"
     ]
    }
   ],
   "source": [
    "xgb1 = XGBClassifier(learning_rate=0.01, n_estimators=500, max_depth=4, subsample = 0.8)\n",
    "xgb1.fit(train_X, train_y)\n",
    "xgb2 = XGBClassifier(learning_rate=0.1, n_estimators=45, max_depth=3, subsample = 0.8)\n",
    "xgb2.fit(train_X, train_y)\n",
    "\n",
    "rF1 = RandomForestClassifier(n_estimators=800, criterion = 'gini', max_depth=10, max_features = 4)\n",
    "rF1.fit(train_X, train_y)\n",
    "\n",
    "dummy_test = pd.Series(np.repeat('N', test_y.shape[0]))\n",
    "dummy_test[intersect_fatal_rows(xgb2, xgb1, test_X)] = 'F'\n",
    "print('intersected accuracy:', accuracy_score(dummy_test, test_y))\n",
    "print('not intersected accuracy1 :', accuracy_score(xgb2.predict(test_X), test_y))\n",
    "print('not intersected accuracy2 :', accuracy_score(xgb1.predict(test_X), test_y))"
   ]
  },
  {
   "cell_type": "code",
   "execution_count": null,
   "metadata": {},
   "outputs": [],
   "source": []
  }
 ],
 "metadata": {
  "kernelspec": {
   "display_name": "Python 3",
   "language": "python",
   "name": "python3"
  },
  "language_info": {
   "codemirror_mode": {
    "name": "ipython",
    "version": 3
   },
   "file_extension": ".py",
   "mimetype": "text/x-python",
   "name": "python",
   "nbconvert_exporter": "python",
   "pygments_lexer": "ipython3",
   "version": "3.6.4"
  },
  "toc": {
   "base_numbering": 1,
   "nav_menu": {},
   "number_sections": true,
   "sideBar": true,
   "skip_h1_title": false,
   "title_cell": "Table of Contents",
   "title_sidebar": "Contents",
   "toc_cell": false,
   "toc_position": {},
   "toc_section_display": true,
   "toc_window_display": false
  },
  "varInspector": {
   "cols": {
    "lenName": 16,
    "lenType": 16,
    "lenVar": "400"
   },
   "kernels_config": {
    "python": {
     "delete_cmd_postfix": "",
     "delete_cmd_prefix": "del ",
     "library": "var_list.py",
     "varRefreshCmd": "print(var_dic_list())"
    },
    "r": {
     "delete_cmd_postfix": ") ",
     "delete_cmd_prefix": "rm(",
     "library": "var_list.r",
     "varRefreshCmd": "cat(var_dic_list()) "
    }
   },
   "types_to_exclude": [
    "module",
    "function",
    "builtin_function_or_method",
    "instance",
    "_Feature"
   ],
   "window_display": false
  }
 },
 "nbformat": 4,
 "nbformat_minor": 2
}
